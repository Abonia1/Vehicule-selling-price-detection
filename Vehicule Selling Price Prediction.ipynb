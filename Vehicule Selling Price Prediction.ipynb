{
 "cells": [
  {
   "cell_type": "markdown",
   "id": "056a51f3",
   "metadata": {
    "papermill": {
     "duration": 0.116573,
     "end_time": "2022-03-11T05:17:57.372638",
     "exception": false,
     "start_time": "2022-03-11T05:17:57.256065",
     "status": "completed"
    },
    "tags": []
   },
   "source": [
    "# Introduction "
   ]
  },
  {
   "cell_type": "markdown",
   "id": "cb43e6a5",
   "metadata": {
    "papermill": {
     "duration": 0.123665,
     "end_time": "2022-03-11T05:17:57.582768",
     "exception": false,
     "start_time": "2022-03-11T05:17:57.459103",
     "status": "completed"
    },
    "tags": []
   },
   "source": [
    "This dataset contains information about used cars.\n",
    "\n",
    "This data can be used for a lot of purposes such as price prediction to exemplify the use of linear regression in Machine Learning.\n",
    "The columns in the given dataset are as follows:\n",
    "\n",
    "* name\n",
    "* year\n",
    "* selling_price\n",
    "* km_driven\n",
    "* fuel\n",
    "* seller_type\n",
    "* transmission\n",
    "* Owner\n",
    "* engine\n",
    "* seat\n",
    "\n",
    "This is a regression problem. We will try using XGBoost regressor to solve this problem statement. We will see that we have less <100k sample of training data. "
   ]
  },
  {
   "cell_type": "code",
   "execution_count": 100,
   "id": "23054550",
   "metadata": {
    "_cell_guid": "b1076dfc-b9ad-4769-8c92-a6c4dae69d19",
    "_uuid": "8f2839f25d086af736a60e9eeb907d3b93b6e0e5",
    "execution": {
     "iopub.execute_input": "2022-03-11T05:17:57.768607Z",
     "iopub.status.busy": "2022-03-11T05:17:57.767782Z",
     "iopub.status.idle": "2022-03-11T05:17:58.801188Z",
     "shell.execute_reply": "2022-03-11T05:17:58.801686Z",
     "shell.execute_reply.started": "2022-03-11T04:53:35.916748Z"
    },
    "papermill": {
     "duration": 1.132103,
     "end_time": "2022-03-11T05:17:58.801952",
     "exception": false,
     "start_time": "2022-03-11T05:17:57.669849",
     "status": "completed"
    },
    "tags": []
   },
   "outputs": [],
   "source": [
    "# General imports\n",
    "from pathlib import Path\n",
    "import datetime\n",
    "\n",
    "# Computational imports\n",
    "import numpy as np   # Library for n-dimensional arrays\n",
    "import pandas as pd  # Library for dataframes (structured data)\n",
    "\n",
    "# ML imports\n",
    "from xgboost import XGBRegressor\n",
    "from sklearn.metrics import mean_squared_error\n",
    "from sklearn.model_selection import StratifiedKFold, TimeSeriesSplit\n",
    "\n",
    "from sklearn.preprocessing import StandardScaler, MinMaxScaler, LabelEncoder\n",
    "from sklearn.pipeline import Pipeline\n",
    "from sklearn.compose import ColumnTransformer\n",
    "\n",
    "# Plotting imports\n",
    "import matplotlib.pyplot as plt\n",
    "import seaborn as sns\n",
    "sns.set()\n",
    "\n",
    "# I like to disable my Notebook Warnings.\n",
    "import warnings\n",
    "warnings.filterwarnings('ignore')\n",
    "\n",
    "# Set seeds to make the experiment more reproducible.\n",
    "from numpy.random import seed\n",
    "seed(1)\n",
    "\n",
    "# Allows us to see more information regarding the DataFrame\n",
    "pd.set_option(\"display.max_rows\", 500)\n",
    "pd.set_option(\"display.max_columns\", 500)"
   ]
  },
  {
   "cell_type": "markdown",
   "id": "a75efd4d",
   "metadata": {
    "papermill": {
     "duration": 0.088524,
     "end_time": "2022-03-11T05:17:58.977020",
     "exception": false,
     "start_time": "2022-03-11T05:17:58.888496",
     "status": "completed"
    },
    "tags": []
   },
   "source": [
    "# Importing Data\n",
    "1. Since data is in form of csv file we have to use pandas read_csv to load the data\n",
    "2. After loading it is important to check the complete information of data. It is important to get a general feel of the data that we are going to be using."
   ]
  },
  {
   "cell_type": "code",
   "execution_count": 101,
   "id": "a6e866b2",
   "metadata": {
    "execution": {
     "iopub.execute_input": "2022-03-11T05:17:59.561746Z",
     "iopub.status.busy": "2022-03-11T05:17:59.560841Z",
     "iopub.status.idle": "2022-03-11T05:17:59.566041Z",
     "shell.execute_reply": "2022-03-11T05:17:59.566716Z",
     "shell.execute_reply.started": "2022-03-11T04:53:36.953966Z"
    },
    "papermill": {
     "duration": 0.153052,
     "end_time": "2022-03-11T05:17:59.566948",
     "exception": false,
     "start_time": "2022-03-11T05:17:59.413896",
     "status": "completed"
    },
    "tags": []
   },
   "outputs": [],
   "source": [
    "car_data_df = pd.read_csv('/Users/sojasingarayar/Documents/Projet IA/Test/AQSONE_Practice_Test_DS_V3_Dataset_A - AQSONE_Practice_Test_DS_V3_Dataset_A.csv')\n"
   ]
  },
  {
   "cell_type": "code",
   "execution_count": 102,
   "id": "e6827190",
   "metadata": {
    "execution": {
     "iopub.execute_input": "2022-03-11T05:18:00.290591Z",
     "iopub.status.busy": "2022-03-11T05:18:00.289928Z",
     "iopub.status.idle": "2022-03-11T05:18:00.303636Z",
     "shell.execute_reply": "2022-03-11T05:18:00.304036Z",
     "shell.execute_reply.started": "2022-03-11T04:53:36.986331Z"
    },
    "papermill": {
     "duration": 0.106374,
     "end_time": "2022-03-11T05:18:00.304161",
     "exception": false,
     "start_time": "2022-03-11T05:18:00.197787",
     "status": "completed"
    },
    "tags": []
   },
   "outputs": [
    {
     "data": {
      "text/html": [
       "<div>\n",
       "<style scoped>\n",
       "    .dataframe tbody tr th:only-of-type {\n",
       "        vertical-align: middle;\n",
       "    }\n",
       "\n",
       "    .dataframe tbody tr th {\n",
       "        vertical-align: top;\n",
       "    }\n",
       "\n",
       "    .dataframe thead th {\n",
       "        text-align: right;\n",
       "    }\n",
       "</style>\n",
       "<table border=\"1\" class=\"dataframe\">\n",
       "  <thead>\n",
       "    <tr style=\"text-align: right;\">\n",
       "      <th></th>\n",
       "      <th>name</th>\n",
       "      <th>year</th>\n",
       "      <th>selling_price</th>\n",
       "      <th>km_driven</th>\n",
       "      <th>fuel</th>\n",
       "      <th>seller_type</th>\n",
       "      <th>transmission</th>\n",
       "      <th>owner</th>\n",
       "      <th>engine</th>\n",
       "      <th>seats</th>\n",
       "    </tr>\n",
       "  </thead>\n",
       "  <tbody>\n",
       "    <tr>\n",
       "      <th>0</th>\n",
       "      <td>Maruti Swift Dzire VDI</td>\n",
       "      <td>2014</td>\n",
       "      <td>6164</td>\n",
       "      <td>145500</td>\n",
       "      <td>Diesel</td>\n",
       "      <td>Individual</td>\n",
       "      <td>Manual</td>\n",
       "      <td>First Owner</td>\n",
       "      <td>1248 CC</td>\n",
       "      <td>5.0</td>\n",
       "    </tr>\n",
       "    <tr>\n",
       "      <th>1</th>\n",
       "      <td>Skoda Rapid 1.5 TDI Ambition</td>\n",
       "      <td>2014</td>\n",
       "      <td>5068</td>\n",
       "      <td>120000</td>\n",
       "      <td>Diesel</td>\n",
       "      <td>Individual</td>\n",
       "      <td>Manual</td>\n",
       "      <td>Second Owner</td>\n",
       "      <td>1498 CC</td>\n",
       "      <td>5.0</td>\n",
       "    </tr>\n",
       "    <tr>\n",
       "      <th>2</th>\n",
       "      <td>Honda City 2017-2020 EXi</td>\n",
       "      <td>2006</td>\n",
       "      <td>2164</td>\n",
       "      <td>140000</td>\n",
       "      <td>Petrol</td>\n",
       "      <td>Individual</td>\n",
       "      <td>Manual</td>\n",
       "      <td>Third Owner</td>\n",
       "      <td>1497 CC</td>\n",
       "      <td>5.0</td>\n",
       "    </tr>\n",
       "    <tr>\n",
       "      <th>3</th>\n",
       "      <td>Hyundai i20 Sportz Diesel</td>\n",
       "      <td>2010</td>\n",
       "      <td>3082</td>\n",
       "      <td>127000</td>\n",
       "      <td>Diesel</td>\n",
       "      <td>Individual</td>\n",
       "      <td>Manual</td>\n",
       "      <td>First Owner</td>\n",
       "      <td>1396 CC</td>\n",
       "      <td>5.0</td>\n",
       "    </tr>\n",
       "    <tr>\n",
       "      <th>4</th>\n",
       "      <td>Maruti Swift VXI BSIII</td>\n",
       "      <td>2007</td>\n",
       "      <td>1781</td>\n",
       "      <td>120000</td>\n",
       "      <td>Petrol</td>\n",
       "      <td>Individual</td>\n",
       "      <td>Manual</td>\n",
       "      <td>First Owner</td>\n",
       "      <td>1298 CC</td>\n",
       "      <td>5.0</td>\n",
       "    </tr>\n",
       "  </tbody>\n",
       "</table>\n",
       "</div>"
      ],
      "text/plain": [
       "                           name  year  selling_price  km_driven    fuel  \\\n",
       "0        Maruti Swift Dzire VDI  2014           6164     145500  Diesel   \n",
       "1  Skoda Rapid 1.5 TDI Ambition  2014           5068     120000  Diesel   \n",
       "2      Honda City 2017-2020 EXi  2006           2164     140000  Petrol   \n",
       "3     Hyundai i20 Sportz Diesel  2010           3082     127000  Diesel   \n",
       "4        Maruti Swift VXI BSIII  2007           1781     120000  Petrol   \n",
       "\n",
       "  seller_type transmission         owner   engine  seats  \n",
       "0  Individual       Manual   First Owner  1248 CC    5.0  \n",
       "1  Individual       Manual  Second Owner  1498 CC    5.0  \n",
       "2  Individual       Manual   Third Owner  1497 CC    5.0  \n",
       "3  Individual       Manual   First Owner  1396 CC    5.0  \n",
       "4  Individual       Manual   First Owner  1298 CC    5.0  "
      ]
     },
     "execution_count": 102,
     "metadata": {},
     "output_type": "execute_result"
    }
   ],
   "source": [
    "car_data_df.head()"
   ]
  },
  {
   "cell_type": "markdown",
   "id": "396dc048",
   "metadata": {
    "papermill": {
     "duration": 0.086921,
     "end_time": "2022-03-11T05:18:00.477645",
     "exception": false,
     "start_time": "2022-03-11T05:18:00.390724",
     "status": "completed"
    },
    "tags": []
   },
   "source": [
    "So we have 8 feature columns + 1 target column `selling_price`"
   ]
  },
  {
   "cell_type": "markdown",
   "id": "7cc8ba83",
   "metadata": {
    "papermill": {
     "duration": 0.088234,
     "end_time": "2022-03-11T05:18:01.020712",
     "exception": false,
     "start_time": "2022-03-11T05:18:00.932478",
     "status": "completed"
    },
    "tags": []
   },
   "source": [
    "<div class=\"alert alert-block alert-info\">\n",
    "<b>Tip:</b> We can use the <b>.shape</b> attribute to obtain the # of rows and columns of the DataFrame. This is great to do when you import your data to understand how many sample and features we have.\n",
    "</div>"
   ]
  },
  {
   "cell_type": "code",
   "execution_count": 103,
   "id": "a679cf16",
   "metadata": {
    "execution": {
     "iopub.execute_input": "2022-03-11T05:18:01.198690Z",
     "iopub.status.busy": "2022-03-11T05:18:01.198013Z",
     "iopub.status.idle": "2022-03-11T05:18:01.200628Z",
     "shell.execute_reply": "2022-03-11T05:18:01.201033Z",
     "shell.execute_reply.started": "2022-03-11T04:53:37.025240Z"
    },
    "papermill": {
     "duration": 0.09375,
     "end_time": "2022-03-11T05:18:01.201164",
     "exception": false,
     "start_time": "2022-03-11T05:18:01.107414",
     "status": "completed"
    },
    "tags": []
   },
   "outputs": [
    {
     "data": {
      "text/plain": [
       "(8128, 10)"
      ]
     },
     "execution_count": 103,
     "metadata": {},
     "output_type": "execute_result"
    }
   ],
   "source": [
    "car_data_df.shape"
   ]
  },
  {
   "cell_type": "markdown",
   "id": "6c797664",
   "metadata": {
    "papermill": {
     "duration": 0.086745,
     "end_time": "2022-03-11T05:18:01.374335",
     "exception": false,
     "start_time": "2022-03-11T05:18:01.287590",
     "status": "completed"
    },
    "tags": []
   },
   "source": [
    "We see that we have 8128 samples (not alot, but this dataset is mostly to practice fundamentals) and `9 feature + 1 target =10 columns`."
   ]
  },
  {
   "cell_type": "markdown",
   "id": "98658086",
   "metadata": {
    "papermill": {
     "duration": 0.086924,
     "end_time": "2022-03-11T05:18:01.547692",
     "exception": false,
     "start_time": "2022-03-11T05:18:01.460768",
     "status": "completed"
    },
    "tags": []
   },
   "source": [
    "# EDA/Visualizations\n",
    "The goal is to try and gain insights from the data prior to modeling"
   ]
  },
  {
   "cell_type": "markdown",
   "id": "57ee1cf0",
   "metadata": {
    "papermill": {
     "duration": 0.087092,
     "end_time": "2022-03-11T05:18:01.721632",
     "exception": false,
     "start_time": "2022-03-11T05:18:01.634540",
     "status": "completed"
    },
    "tags": []
   },
   "source": [
    "## Explorating the Dataframe"
   ]
  },
  {
   "cell_type": "markdown",
   "id": "0f4f8e5c",
   "metadata": {
    "papermill": {
     "duration": 0.087815,
     "end_time": "2022-03-11T05:18:01.896397",
     "exception": false,
     "start_time": "2022-03-11T05:18:01.808582",
     "status": "completed"
    },
    "tags": []
   },
   "source": [
    "It is useful to use .info() method to quickly have a glance on the general information about the DataFrame. It displays info such as the type of the columnd and also the # of non-null count. In this case there are 301entries and for each coloumn we have 301 non-null count. This means no column has any missing values."
   ]
  },
  {
   "cell_type": "code",
   "execution_count": 104,
   "id": "2d74d049",
   "metadata": {
    "execution": {
     "iopub.execute_input": "2022-03-11T05:18:02.091847Z",
     "iopub.status.busy": "2022-03-11T05:18:02.090947Z",
     "iopub.status.idle": "2022-03-11T05:18:02.094113Z",
     "shell.execute_reply": "2022-03-11T05:18:02.094715Z",
     "shell.execute_reply.started": "2022-03-11T04:53:37.035284Z"
    },
    "papermill": {
     "duration": 0.111843,
     "end_time": "2022-03-11T05:18:02.094897",
     "exception": false,
     "start_time": "2022-03-11T05:18:01.983054",
     "status": "completed"
    },
    "tags": []
   },
   "outputs": [
    {
     "name": "stdout",
     "output_type": "stream",
     "text": [
      "<class 'pandas.core.frame.DataFrame'>\n",
      "RangeIndex: 8128 entries, 0 to 8127\n",
      "Data columns (total 10 columns):\n",
      " #   Column         Non-Null Count  Dtype  \n",
      "---  ------         --------------  -----  \n",
      " 0   name           8128 non-null   object \n",
      " 1   year           8128 non-null   int64  \n",
      " 2   selling_price  8128 non-null   int64  \n",
      " 3   km_driven      8128 non-null   int64  \n",
      " 4   fuel           8128 non-null   object \n",
      " 5   seller_type    8128 non-null   object \n",
      " 6   transmission   8128 non-null   object \n",
      " 7   owner          8128 non-null   object \n",
      " 8   engine         7907 non-null   object \n",
      " 9   seats          7907 non-null   float64\n",
      "dtypes: float64(1), int64(3), object(6)\n",
      "memory usage: 635.1+ KB\n"
     ]
    }
   ],
   "source": [
    "car_data_df.info()"
   ]
  },
  {
   "cell_type": "markdown",
   "id": "c7aae4f2",
   "metadata": {
    "papermill": {
     "duration": 0.088065,
     "end_time": "2022-03-11T05:18:02.272018",
     "exception": false,
     "start_time": "2022-03-11T05:18:02.183953",
     "status": "completed"
    },
    "tags": []
   },
   "source": [
    "The .dtypes attribute allows you to quickly understand what datatype is each column."
   ]
  },
  {
   "cell_type": "code",
   "execution_count": 105,
   "id": "66b1f12b",
   "metadata": {
    "execution": {
     "iopub.execute_input": "2022-03-11T05:18:02.451238Z",
     "iopub.status.busy": "2022-03-11T05:18:02.450731Z",
     "iopub.status.idle": "2022-03-11T05:18:02.455483Z",
     "shell.execute_reply": "2022-03-11T05:18:02.455054Z",
     "shell.execute_reply.started": "2022-03-11T04:53:37.058430Z"
    },
    "papermill": {
     "duration": 0.0968,
     "end_time": "2022-03-11T05:18:02.455596",
     "exception": false,
     "start_time": "2022-03-11T05:18:02.358796",
     "status": "completed"
    },
    "tags": []
   },
   "outputs": [
    {
     "data": {
      "text/plain": [
       "name              object\n",
       "year               int64\n",
       "selling_price      int64\n",
       "km_driven          int64\n",
       "fuel              object\n",
       "seller_type       object\n",
       "transmission      object\n",
       "owner             object\n",
       "engine            object\n",
       "seats            float64\n",
       "dtype: object"
      ]
     },
     "execution_count": 105,
     "metadata": {},
     "output_type": "execute_result"
    }
   ],
   "source": [
    "car_data_df.dtypes"
   ]
  },
  {
   "cell_type": "markdown",
   "id": "73869ac9",
   "metadata": {
    "papermill": {
     "duration": 0.086861,
     "end_time": "2022-03-11T05:18:02.630911",
     "exception": false,
     "start_time": "2022-03-11T05:18:02.544050",
     "status": "completed"
    },
    "tags": []
   },
   "source": [
    "In our case, the datatypes are as expected. We do not have something like the selling price being a String (object)."
   ]
  },
  {
   "cell_type": "markdown",
   "id": "ac10d9be",
   "metadata": {
    "papermill": {
     "duration": 0.08745,
     "end_time": "2022-03-11T05:18:02.808616",
     "exception": false,
     "start_time": "2022-03-11T05:18:02.721166",
     "status": "completed"
    },
    "tags": []
   },
   "source": [
    "The describe() method gives a quick summary of the statistical information of the numerical columns. We get descriptions for the mean, standard deviation and max value for example."
   ]
  },
  {
   "cell_type": "code",
   "execution_count": 106,
   "id": "687d133c",
   "metadata": {
    "execution": {
     "iopub.execute_input": "2022-03-11T05:18:02.991288Z",
     "iopub.status.busy": "2022-03-11T05:18:02.990452Z",
     "iopub.status.idle": "2022-03-11T05:18:03.010097Z",
     "shell.execute_reply": "2022-03-11T05:18:03.010577Z",
     "shell.execute_reply.started": "2022-03-11T04:53:37.072073Z"
    },
    "papermill": {
     "duration": 0.114914,
     "end_time": "2022-03-11T05:18:03.010712",
     "exception": false,
     "start_time": "2022-03-11T05:18:02.895798",
     "status": "completed"
    },
    "tags": []
   },
   "outputs": [
    {
     "data": {
      "text/html": [
       "<div>\n",
       "<style scoped>\n",
       "    .dataframe tbody tr th:only-of-type {\n",
       "        vertical-align: middle;\n",
       "    }\n",
       "\n",
       "    .dataframe tbody tr th {\n",
       "        vertical-align: top;\n",
       "    }\n",
       "\n",
       "    .dataframe thead th {\n",
       "        text-align: right;\n",
       "    }\n",
       "</style>\n",
       "<table border=\"1\" class=\"dataframe\">\n",
       "  <thead>\n",
       "    <tr style=\"text-align: right;\">\n",
       "      <th></th>\n",
       "      <th>year</th>\n",
       "      <th>selling_price</th>\n",
       "      <th>km_driven</th>\n",
       "      <th>seats</th>\n",
       "    </tr>\n",
       "  </thead>\n",
       "  <tbody>\n",
       "    <tr>\n",
       "      <th>count</th>\n",
       "      <td>8128.000000</td>\n",
       "      <td>8128.000000</td>\n",
       "      <td>8.128000e+03</td>\n",
       "      <td>7907.000000</td>\n",
       "    </tr>\n",
       "    <tr>\n",
       "      <th>mean</th>\n",
       "      <td>2013.804011</td>\n",
       "      <td>8743.468135</td>\n",
       "      <td>6.981951e+04</td>\n",
       "      <td>5.416719</td>\n",
       "    </tr>\n",
       "    <tr>\n",
       "      <th>std</th>\n",
       "      <td>4.044249</td>\n",
       "      <td>11044.559233</td>\n",
       "      <td>5.655055e+04</td>\n",
       "      <td>0.959588</td>\n",
       "    </tr>\n",
       "    <tr>\n",
       "      <th>min</th>\n",
       "      <td>1983.000000</td>\n",
       "      <td>411.000000</td>\n",
       "      <td>1.000000e+00</td>\n",
       "      <td>2.000000</td>\n",
       "    </tr>\n",
       "    <tr>\n",
       "      <th>25%</th>\n",
       "      <td>2011.000000</td>\n",
       "      <td>3493.000000</td>\n",
       "      <td>3.500000e+04</td>\n",
       "      <td>5.000000</td>\n",
       "    </tr>\n",
       "    <tr>\n",
       "      <th>50%</th>\n",
       "      <td>2015.000000</td>\n",
       "      <td>6164.000000</td>\n",
       "      <td>6.000000e+04</td>\n",
       "      <td>5.000000</td>\n",
       "    </tr>\n",
       "    <tr>\n",
       "      <th>75%</th>\n",
       "      <td>2017.000000</td>\n",
       "      <td>9247.000000</td>\n",
       "      <td>9.800000e+04</td>\n",
       "      <td>5.000000</td>\n",
       "    </tr>\n",
       "    <tr>\n",
       "      <th>max</th>\n",
       "      <td>2020.000000</td>\n",
       "      <td>136986.000000</td>\n",
       "      <td>2.360457e+06</td>\n",
       "      <td>14.000000</td>\n",
       "    </tr>\n",
       "  </tbody>\n",
       "</table>\n",
       "</div>"
      ],
      "text/plain": [
       "              year  selling_price     km_driven        seats\n",
       "count  8128.000000    8128.000000  8.128000e+03  7907.000000\n",
       "mean   2013.804011    8743.468135  6.981951e+04     5.416719\n",
       "std       4.044249   11044.559233  5.655055e+04     0.959588\n",
       "min    1983.000000     411.000000  1.000000e+00     2.000000\n",
       "25%    2011.000000    3493.000000  3.500000e+04     5.000000\n",
       "50%    2015.000000    6164.000000  6.000000e+04     5.000000\n",
       "75%    2017.000000    9247.000000  9.800000e+04     5.000000\n",
       "max    2020.000000  136986.000000  2.360457e+06    14.000000"
      ]
     },
     "execution_count": 106,
     "metadata": {},
     "output_type": "execute_result"
    }
   ],
   "source": [
    "car_data_df.describe()"
   ]
  },
  {
   "cell_type": "markdown",
   "id": "6007ed55",
   "metadata": {
    "papermill": {
     "duration": 0.092405,
     "end_time": "2022-03-11T05:18:03.194204",
     "exception": false,
     "start_time": "2022-03-11T05:18:03.101799",
     "status": "completed"
    },
    "tags": []
   },
   "source": [
    "## Getting all column types\n",
    "Some features are numerical and others are categorical. Depending on the type, different techniques will have to be used to take care of them. We are going to use a function to generate us the list of columns."
   ]
  },
  {
   "cell_type": "code",
   "execution_count": 107,
   "id": "b0d39db3",
   "metadata": {
    "execution": {
     "iopub.execute_input": "2022-03-11T05:18:03.383677Z",
     "iopub.status.busy": "2022-03-11T05:18:03.382797Z",
     "iopub.status.idle": "2022-03-11T05:18:03.384562Z",
     "shell.execute_reply": "2022-03-11T05:18:03.385042Z",
     "shell.execute_reply.started": "2022-03-11T04:53:37.099661Z"
    },
    "papermill": {
     "duration": 0.100126,
     "end_time": "2022-03-11T05:18:03.385182",
     "exception": false,
     "start_time": "2022-03-11T05:18:03.285056",
     "status": "completed"
    },
    "tags": []
   },
   "outputs": [],
   "source": [
    "def get_all_cols(df, target_col, exclude=[]):\n",
    "    \n",
    "    # Select categorical columns\n",
    "    object_cols = [cname for cname in df.columns \n",
    "                   if df[cname].dtype == \"object\"]\n",
    "\n",
    "    # Select numerical columns\n",
    "    num_cols = [cname for cname in df.columns \n",
    "                if df[cname].dtype in ['int64', 'float64', 'uint8']]\n",
    "    \n",
    "    all_cols = object_cols + num_cols\n",
    "    \n",
    "    exclude_cols = exclude + [target_col]\n",
    "    \n",
    "    feature_cols = [col for col in all_cols if col not in exclude_cols]\n",
    "    \n",
    "    return object_cols, num_cols, feature_cols"
   ]
  },
  {
   "cell_type": "code",
   "execution_count": 108,
   "id": "27a3d93b",
   "metadata": {
    "execution": {
     "iopub.execute_input": "2022-03-11T05:18:03.572628Z",
     "iopub.status.busy": "2022-03-11T05:18:03.571083Z",
     "iopub.status.idle": "2022-03-11T05:18:03.573283Z",
     "shell.execute_reply": "2022-03-11T05:18:03.573717Z",
     "shell.execute_reply.started": "2022-03-11T04:53:37.107688Z"
    },
    "papermill": {
     "duration": 0.09722,
     "end_time": "2022-03-11T05:18:03.573843",
     "exception": false,
     "start_time": "2022-03-11T05:18:03.476623",
     "status": "completed"
    },
    "tags": []
   },
   "outputs": [],
   "source": [
    "object_cols, num_cols, feature_cols = get_all_cols(car_data_df, \"selling_price\")"
   ]
  },
  {
   "cell_type": "markdown",
   "id": "3fef06b4",
   "metadata": {
    "papermill": {
     "duration": 0.087845,
     "end_time": "2022-03-11T05:18:03.749519",
     "exception": false,
     "start_time": "2022-03-11T05:18:03.661674",
     "status": "completed"
    },
    "tags": []
   },
   "source": [
    "<div class=\"alert alert-block alert-warning\">  \n",
    "<b>Note:</b> We exlude <b>Selling_Price</b> because it is the target.\n",
    "</div>"
   ]
  },
  {
   "cell_type": "code",
   "execution_count": 109,
   "id": "e5389090",
   "metadata": {
    "execution": {
     "iopub.execute_input": "2022-03-11T05:18:03.952840Z",
     "iopub.status.busy": "2022-03-11T05:18:03.951869Z",
     "iopub.status.idle": "2022-03-11T05:18:03.955726Z",
     "shell.execute_reply": "2022-03-11T05:18:03.956409Z",
     "shell.execute_reply.started": "2022-03-11T04:53:37.116976Z"
    },
    "papermill": {
     "duration": 0.111976,
     "end_time": "2022-03-11T05:18:03.956614",
     "exception": false,
     "start_time": "2022-03-11T05:18:03.844638",
     "status": "completed"
    },
    "tags": []
   },
   "outputs": [
    {
     "name": "stdout",
     "output_type": "stream",
     "text": [
      "['name', 'fuel', 'seller_type', 'transmission', 'owner', 'engine']\n",
      "['year', 'selling_price', 'km_driven', 'seats']\n",
      "['name', 'fuel', 'seller_type', 'transmission', 'owner', 'engine', 'year', 'km_driven', 'seats']\n"
     ]
    }
   ],
   "source": [
    "print(object_cols)\n",
    "print(num_cols)      # Note that num cols does contain the Target column\n",
    "print(feature_cols)  # Note that feature cols does not contain the Target column"
   ]
  },
  {
   "cell_type": "markdown",
   "id": "8ec61823",
   "metadata": {
    "papermill": {
     "duration": 0.099302,
     "end_time": "2022-03-11T05:18:04.163072",
     "exception": false,
     "start_time": "2022-03-11T05:18:04.063770",
     "status": "completed"
    },
    "tags": []
   },
   "source": [
    "After getting all the categorical columns, let's quickly analyze how many unique values each column takes. This is important to analyze if we want to later on one hot encode a column. A column with 10000 unique values will be very heavy to one hot encode, since it will add `10000-1=9999` new columns."
   ]
  },
  {
   "cell_type": "code",
   "execution_count": 110,
   "id": "0b424f9e",
   "metadata": {
    "execution": {
     "iopub.execute_input": "2022-03-11T05:18:04.345725Z",
     "iopub.status.busy": "2022-03-11T05:18:04.344877Z",
     "iopub.status.idle": "2022-03-11T05:18:04.349671Z",
     "shell.execute_reply": "2022-03-11T05:18:04.350217Z",
     "shell.execute_reply.started": "2022-03-11T04:53:37.127131Z"
    },
    "papermill": {
     "duration": 0.098481,
     "end_time": "2022-03-11T05:18:04.350405",
     "exception": false,
     "start_time": "2022-03-11T05:18:04.251924",
     "status": "completed"
    },
    "tags": []
   },
   "outputs": [
    {
     "name": "stdout",
     "output_type": "stream",
     "text": [
      "name:2058\n",
      "\n",
      "fuel:4\n",
      "\n",
      "seller_type:3\n",
      "\n",
      "transmission:2\n",
      "\n",
      "owner:5\n",
      "\n",
      "engine:121\n",
      "\n"
     ]
    }
   ],
   "source": [
    "for object_col in object_cols:\n",
    "    print(f'{object_col}:{car_data_df[object_col].nunique()}\\n')"
   ]
  },
  {
   "cell_type": "markdown",
   "id": "d9ae2338",
   "metadata": {
    "papermill": {
     "duration": 0.088775,
     "end_time": "2022-03-11T05:18:04.529340",
     "exception": false,
     "start_time": "2022-03-11T05:18:04.440565",
     "status": "completed"
    },
    "tags": []
   },
   "source": [
    "In our case, it doesn't seem to bad. Worst case, after testing, we can choose to remove the `name` one hot encoding."
   ]
  },
  {
   "cell_type": "markdown",
   "id": "db4f06b0",
   "metadata": {
    "papermill": {
     "duration": 0.088889,
     "end_time": "2022-03-11T05:18:04.707757",
     "exception": false,
     "start_time": "2022-03-11T05:18:04.618868",
     "status": "completed"
    },
    "tags": []
   },
   "source": [
    "We can also check the count of each category for a column. We do this using the .value_counts() method."
   ]
  },
  {
   "cell_type": "code",
   "execution_count": 111,
   "id": "da921c6d",
   "metadata": {
    "_kg_hide-output": true,
    "execution": {
     "iopub.execute_input": "2022-03-11T05:18:04.894697Z",
     "iopub.status.busy": "2022-03-11T05:18:04.894136Z",
     "iopub.status.idle": "2022-03-11T05:18:04.899654Z",
     "shell.execute_reply": "2022-03-11T05:18:04.899059Z",
     "shell.execute_reply.started": "2022-03-11T04:53:37.142354Z"
    },
    "papermill": {
     "duration": 0.103003,
     "end_time": "2022-03-11T05:18:04.899802",
     "exception": false,
     "start_time": "2022-03-11T05:18:04.796799",
     "status": "completed"
    },
    "tags": []
   },
   "outputs": [
    {
     "name": "stdout",
     "output_type": "stream",
     "text": [
      "Maruti Swift Dzire VDI                   129\n",
      "Maruti Alto 800 LXI                       82\n",
      "Maruti Alto LXi                           71\n",
      "BMW X4 M Sport X xDrive20d                62\n",
      "Maruti Swift VDI                          61\n",
      "                                        ... \n",
      "Volkswagen Passat 2.0 TDI AT Highline      1\n",
      "Honda City 1.5 V MT Exclusive              1\n",
      "Tata Tiago 1.2 Revotron XM Option          1\n",
      "Toyota Land Cruiser Prado VX L             1\n",
      "Datsun GO Anniversary Edition              1\n",
      "Name: name, Length: 2058, dtype: int64\n",
      "\n",
      "Diesel    4402\n",
      "Petrol    3631\n",
      "CNG         57\n",
      "LPG         38\n",
      "Name: fuel, dtype: int64\n",
      "\n",
      "Individual          6766\n",
      "Dealer              1126\n",
      "Trustmark Dealer     236\n",
      "Name: seller_type, dtype: int64\n",
      "\n",
      "Manual       7078\n",
      "Automatic    1050\n",
      "Name: transmission, dtype: int64\n",
      "\n",
      "First Owner             5289\n",
      "Second Owner            2105\n",
      "Third Owner              555\n",
      "Fourth & Above Owner     174\n",
      "Test Drive Car             5\n",
      "Name: owner, dtype: int64\n",
      "\n",
      "1248 CC    1017\n",
      "1197 CC     832\n",
      "998 CC      453\n",
      "796 CC      444\n",
      "2179 CC     389\n",
      "1498 CC     375\n",
      "1396 CC     321\n",
      "1199 CC     271\n",
      "2494 CC     222\n",
      "2523 CC     195\n",
      "1461 CC     185\n",
      "1198 CC     182\n",
      "1497 CC     181\n",
      "1582 CC     156\n",
      "1493 CC     142\n",
      "1086 CC     138\n",
      "1399 CC     121\n",
      "814 CC      121\n",
      "1405 CC     113\n",
      "1995 CC     102\n",
      "1598 CC     101\n",
      "1196 CC      92\n",
      "799 CC       79\n",
      "999 CC       77\n",
      "1999 CC      69\n",
      "1186 CC      61\n",
      "1061 CC      59\n",
      "1364 CC      54\n",
      "1120 CC      53\n",
      "1496 CC      49\n",
      "1591 CC      48\n",
      "1193 CC      45\n",
      "2498 CC      45\n",
      "1968 CC      44\n",
      "1373 CC      43\n",
      "995 CC       43\n",
      "1298 CC      41\n",
      "936 CC       36\n",
      "1991 CC      35\n",
      "1969 CC      35\n",
      "2487 CC      34\n",
      "2982 CC      33\n",
      "2499 CC      33\n",
      "2755 CC      32\n",
      "1984 CC      32\n",
      "1997 CC      31\n",
      "993 CC       26\n",
      "624 CC       25\n",
      "2393 CC      25\n",
      "1956 CC      24\n",
      "2143 CC      24\n",
      "2489 CC      23\n",
      "2956 CC      21\n",
      "1798 CC      21\n",
      "1368 CC      21\n",
      "1998 CC      20\n",
      "1586 CC      20\n",
      "1495 CC      20\n",
      "1194 CC      18\n",
      "1499 CC      18\n",
      "1047 CC      18\n",
      "1599 CC      18\n",
      "1896 CC      17\n",
      "2993 CC      17\n",
      "2354 CC      15\n",
      "2609 CC      14\n",
      "1794 CC      14\n",
      "1799 CC      13\n",
      "1948 CC      12\n",
      "2987 CC      11\n",
      "1462 CC      10\n",
      "1172 CC      10\n",
      "1596 CC       9\n",
      "1341 CC       9\n",
      "1388 CC       9\n",
      "2967 CC       9\n",
      "2477 CC       7\n",
      "1150 CC       7\n",
      "1597 CC       6\n",
      "1797 CC       6\n",
      "793 CC        6\n",
      "3604 CC       6\n",
      "2696 CC       5\n",
      "2199 CC       5\n",
      "3198 CC       5\n",
      "1527 CC       4\n",
      "2953 CC       4\n",
      "2359 CC       4\n",
      "2148 CC       4\n",
      "2497 CC       3\n",
      "1451 CC       3\n",
      "2694 CC       3\n",
      "2200 CC       3\n",
      "1299 CC       3\n",
      "909 CC        3\n",
      "1390 CC       3\n",
      "1343 CC       3\n",
      "1796 CC       3\n",
      "1595 CC       3\n",
      "2999 CC       3\n",
      "2596 CC       2\n",
      "2198 CC       2\n",
      "2231 CC       2\n",
      "1994 CC       2\n",
      "2362 CC       2\n",
      "1781 CC       2\n",
      "2092 CC       2\n",
      "1795 CC       2\n",
      "2997 CC       2\n",
      "2650 CC       1\n",
      "2496 CC       1\n",
      "1950 CC       1\n",
      "3498 CC       1\n",
      "1339 CC       1\n",
      "1422 CC       1\n",
      "1590 CC       1\n",
      "2776 CC       1\n",
      "2197 CC       1\n",
      "2835 CC       1\n",
      "2446 CC       1\n",
      "1489 CC       1\n",
      "Name: engine, dtype: int64\n",
      "\n"
     ]
    }
   ],
   "source": [
    "for object_col in object_cols:\n",
    "    obj_val_counts = car_data_df[object_col].value_counts()\n",
    "    print(f'{obj_val_counts}\\n')"
   ]
  },
  {
   "cell_type": "markdown",
   "id": "1252a2b8",
   "metadata": {
    "papermill": {
     "duration": 0.089864,
     "end_time": "2022-03-11T05:18:05.080276",
     "exception": false,
     "start_time": "2022-03-11T05:18:04.990412",
     "status": "completed"
    },
    "tags": []
   },
   "source": [
    "## Plotting\n",
    "We will explore various plots that could give us valuable insights."
   ]
  },
  {
   "cell_type": "markdown",
   "id": "a35f6bb9",
   "metadata": {
    "papermill": {
     "duration": 0.088594,
     "end_time": "2022-03-11T05:18:05.261230",
     "exception": false,
     "start_time": "2022-03-11T05:18:05.172636",
     "status": "completed"
    },
    "tags": []
   },
   "source": [
    "### Set the plot styles\n",
    "Some configurations for the plots to make them look nicer."
   ]
  },
  {
   "cell_type": "code",
   "execution_count": 112,
   "id": "8f2e5946",
   "metadata": {
    "execution": {
     "iopub.execute_input": "2022-03-11T05:18:05.448646Z",
     "iopub.status.busy": "2022-03-11T05:18:05.447074Z",
     "iopub.status.idle": "2022-03-11T05:18:05.449220Z",
     "shell.execute_reply": "2022-03-11T05:18:05.449656Z",
     "shell.execute_reply.started": "2022-03-11T04:53:37.155862Z"
    },
    "papermill": {
     "duration": 0.099093,
     "end_time": "2022-03-11T05:18:05.449788",
     "exception": false,
     "start_time": "2022-03-11T05:18:05.350695",
     "status": "completed"
    },
    "tags": []
   },
   "outputs": [],
   "source": [
    "colors = sns.color_palette('pastel') # Color palette to use\n",
    "sns.set(rc={'figure.figsize':(8,6)})\n",
    "plt.rc('axes', titlesize=18)     # fontsize of the axes title\n",
    "plt.rc('axes', labelsize=14)    # fontsize of the x and y labels\n",
    "plt.rc('xtick', labelsize=13)    # fontsize of the tick labels\n",
    "plt.rc('ytick', labelsize=13)    # fontsize of the tick labels\n",
    "plt.rc('legend', fontsize=13)    # legend fontsize\n",
    "plt.rc('font', size=13)          # controls default text sizes\n",
    "sns.set_style('white') # darkgrid, white grid, dark, white and ticks"
   ]
  },
  {
   "cell_type": "markdown",
   "id": "56b8bcf4",
   "metadata": {
    "papermill": {
     "duration": 0.093783,
     "end_time": "2022-03-11T05:18:05.633024",
     "exception": false,
     "start_time": "2022-03-11T05:18:05.539241",
     "status": "completed"
    },
    "tags": []
   },
   "source": [
    "## Bar Plot\n",
    "Here we will explore the amount the selling price per fuel type. Goal would be to determine the correlation between the category types to selling price."
   ]
  },
  {
   "cell_type": "code",
   "execution_count": 113,
   "id": "74f6d098",
   "metadata": {
    "execution": {
     "iopub.execute_input": "2022-03-11T05:18:05.819914Z",
     "iopub.status.busy": "2022-03-11T05:18:05.819104Z",
     "iopub.status.idle": "2022-03-11T05:18:06.235085Z",
     "shell.execute_reply": "2022-03-11T05:18:06.236076Z",
     "shell.execute_reply.started": "2022-03-11T04:53:37.166319Z"
    },
    "papermill": {
     "duration": 0.513475,
     "end_time": "2022-03-11T05:18:06.236345",
     "exception": false,
     "start_time": "2022-03-11T05:18:05.722870",
     "status": "completed"
    },
    "tags": []
   },
   "outputs": [
    {
     "data": {
      "image/png": "[encoded data removed]",
      "text/plain": [
       "<Figure size 576x432 with 1 Axes>"
      ]
     },
     "metadata": {},
     "output_type": "display_data"
    }
   ],
   "source": [
    "sns.barplot(data=car_data_df, x='fuel', y='selling_price');"
   ]
  },
  {
   "cell_type": "markdown",
   "id": "320bfb2b",
   "metadata": {
    "papermill": {
     "duration": 0.153577,
     "end_time": "2022-03-11T05:18:06.535553",
     "exception": false,
     "start_time": "2022-03-11T05:18:06.381976",
     "status": "completed"
    },
    "tags": []
   },
   "source": [
    "It is clear from this plot that diesel cars sell for a higher price. This is expected since diesel fuel is more expensive normally."
   ]
  },
  {
   "cell_type": "code",
   "execution_count": 114,
   "id": "ab6f8a9f",
   "metadata": {
    "execution": {
     "iopub.execute_input": "2022-03-11T05:18:06.849123Z",
     "iopub.status.busy": "2022-03-11T05:18:06.848304Z",
     "iopub.status.idle": "2022-03-11T05:18:07.141081Z",
     "shell.execute_reply": "2022-03-11T05:18:07.141724Z",
     "shell.execute_reply.started": "2022-03-11T04:53:37.472933Z"
    },
    "papermill": {
     "duration": 0.45299,
     "end_time": "2022-03-11T05:18:07.141898",
     "exception": false,
     "start_time": "2022-03-11T05:18:06.688908",
     "status": "completed"
    },
    "tags": []
   },
   "outputs": [
    {
     "data": {
      "image/png": "[encoded data removed]",
      "text/plain": [
       "<Figure size 576x432 with 1 Axes>"
      ]
     },
     "metadata": {},
     "output_type": "display_data"
    }
   ],
   "source": [
    "sns.barplot(data=car_data_df, x='transmission', y= 'selling_price');"
   ]
  },
  {
   "cell_type": "markdown",
   "id": "3614c7b6",
   "metadata": {
    "papermill": {
     "duration": 0.092194,
     "end_time": "2022-03-11T05:18:07.326136",
     "exception": false,
     "start_time": "2022-03-11T05:18:07.233942",
     "status": "completed"
    },
    "tags": []
   },
   "source": [
    "It is clear from this plot that automatic cars sell for a higher price. This is expected since historically automatic car have been sold for a higher price."
   ]
  },
  {
   "cell_type": "code",
   "execution_count": 115,
   "id": "11ae118e",
   "metadata": {
    "execution": {
     "iopub.execute_input": "2022-03-11T05:18:07.515398Z",
     "iopub.status.busy": "2022-03-11T05:18:07.514531Z",
     "iopub.status.idle": "2022-03-11T05:18:07.748567Z",
     "shell.execute_reply": "2022-03-11T05:18:07.748002Z",
     "shell.execute_reply.started": "2022-03-11T04:53:37.702329Z"
    },
    "papermill": {
     "duration": 0.331814,
     "end_time": "2022-03-11T05:18:07.748720",
     "exception": false,
     "start_time": "2022-03-11T05:18:07.416906",
     "status": "completed"
    },
    "tags": []
   },
   "outputs": [
    {
     "data": {
      "image/png": "[encoded data removed]",
      "text/plain": [
       "<Figure size 576x432 with 1 Axes>"
      ]
     },
     "metadata": {},
     "output_type": "display_data"
    }
   ],
   "source": [
    "sns.barplot(data=car_data_df, x='seller_type', y= 'selling_price');"
   ]
  },
  {
   "cell_type": "code",
   "execution_count": 116,
   "id": "d2b6eb40",
   "metadata": {
    "execution": {
     "iopub.execute_input": "2022-03-11T05:18:07.938356Z",
     "iopub.status.busy": "2022-03-11T05:18:07.937502Z",
     "iopub.status.idle": "2022-03-11T05:18:08.201045Z",
     "shell.execute_reply": "2022-03-11T05:18:08.201481Z",
     "shell.execute_reply.started": "2022-03-11T04:53:37.937873Z"
    },
    "papermill": {
     "duration": 0.359914,
     "end_time": "2022-03-11T05:18:08.201643",
     "exception": false,
     "start_time": "2022-03-11T05:18:07.841729",
     "status": "completed"
    },
    "tags": []
   },
   "outputs": [
    {
     "data": {
      "text/plain": [
       "<AxesSubplot:xlabel='year'>"
      ]
     },
     "execution_count": 116,
     "metadata": {},
     "output_type": "execute_result"
    },
    {
     "data": {
      "image/png": "[encoded data removed]",
      "text/plain": [
       "<Figure size 720x360 with 1 Axes>"
      ]
     },
     "metadata": {},
     "output_type": "display_data"
    }
   ],
   "source": [
    "car_df_grouped_by_year = car_data_df.groupby(['year'])['selling_price'].mean()\n",
    "car_df_grouped_by_year.plot(figsize = (10,5))"
   ]
  },
  {
   "cell_type": "markdown",
   "id": "83f7938a",
   "metadata": {
    "papermill": {
     "duration": 0.093138,
     "end_time": "2022-03-11T05:18:08.388630",
     "exception": false,
     "start_time": "2022-03-11T05:18:08.295492",
     "status": "completed"
    },
    "tags": []
   },
   "source": [
    "This plot showcases the steady increase of car selling price througout the years. This is expected especially with inflation."
   ]
  },
  {
   "cell_type": "markdown",
   "id": "010cd546",
   "metadata": {
    "papermill": {
     "duration": 0.092525,
     "end_time": "2022-03-11T05:18:08.574881",
     "exception": false,
     "start_time": "2022-03-11T05:18:08.482356",
     "status": "completed"
    },
    "tags": []
   },
   "source": [
    "## Categorical Plot\n",
    "Here we will explore the amount of sell, mean and distribution per product. We can look at distribution and see if it close to being a Gaussian distribution and also look at if there are any outliers. Goal would be to analyze the statistical distribution of num_sold depending on each product type."
   ]
  },
  {
   "cell_type": "code",
   "execution_count": 117,
   "id": "727f8cef",
   "metadata": {
    "execution": {
     "iopub.execute_input": "2022-03-11T05:18:08.769788Z",
     "iopub.status.busy": "2022-03-11T05:18:08.768976Z",
     "iopub.status.idle": "2022-03-11T05:18:09.091607Z",
     "shell.execute_reply": "2022-03-11T05:18:09.091125Z",
     "shell.execute_reply.started": "2022-03-11T04:53:38.187581Z"
    },
    "papermill": {
     "duration": 0.422783,
     "end_time": "2022-03-11T05:18:09.091739",
     "exception": false,
     "start_time": "2022-03-11T05:18:08.668956",
     "status": "completed"
    },
    "tags": []
   },
   "outputs": [
    {
     "data": {
      "image/png": "[encoded data removed]",
      "text/plain": [
       "<Figure size 1080x360 with 1 Axes>"
      ]
     },
     "metadata": {},
     "output_type": "display_data"
    }
   ],
   "source": [
    "sns.catplot(x='fuel', y= 'selling_price', data = car_data_df.sort_values(\"selling_price\", ascending = False), kind=\"violin\", height = 5, aspect = 3)\n",
    "plt.show()"
   ]
  },
  {
   "cell_type": "code",
   "execution_count": 118,
   "id": "22270fee",
   "metadata": {
    "execution": {
     "iopub.execute_input": "2022-03-11T05:18:09.290382Z",
     "iopub.status.busy": "2022-03-11T05:18:09.286185Z",
     "iopub.status.idle": "2022-03-11T05:18:09.570165Z",
     "shell.execute_reply": "2022-03-11T05:18:09.569702Z",
     "shell.execute_reply.started": "2022-03-11T04:53:38.513104Z"
    },
    "papermill": {
     "duration": 0.383683,
     "end_time": "2022-03-11T05:18:09.570292",
     "exception": false,
     "start_time": "2022-03-11T05:18:09.186609",
     "status": "completed"
    },
    "tags": []
   },
   "outputs": [
    {
     "data": {
      "image/png": "[encoded data removed]",
      "text/plain": [
       "<Figure size 1080x360 with 1 Axes>"
      ]
     },
     "metadata": {},
     "output_type": "display_data"
    }
   ],
   "source": [
    "sns.catplot(x='seller_type', y= 'selling_price', data = car_data_df.sort_values(\"selling_price\", ascending = False), kind=\"violin\", height = 5, aspect = 3)\n",
    "plt.show()"
   ]
  },
  {
   "cell_type": "code",
   "execution_count": 119,
   "id": "f440d2bb",
   "metadata": {
    "execution": {
     "iopub.execute_input": "2022-03-11T05:18:09.782051Z",
     "iopub.status.busy": "2022-03-11T05:18:09.770840Z",
     "iopub.status.idle": "2022-03-11T05:18:10.128695Z",
     "shell.execute_reply": "2022-03-11T05:18:10.129761Z",
     "shell.execute_reply.started": "2022-03-11T04:53:38.799805Z"
    },
    "papermill": {
     "duration": 0.464423,
     "end_time": "2022-03-11T05:18:10.129986",
     "exception": false,
     "start_time": "2022-03-11T05:18:09.665563",
     "status": "completed"
    },
    "tags": []
   },
   "outputs": [
    {
     "data": {
      "image/png": "[encoded data removed]",
      "text/plain": [
       "<Figure size 1080x360 with 1 Axes>"
      ]
     },
     "metadata": {},
     "output_type": "display_data"
    }
   ],
   "source": [
    "sns.catplot(x='transmission', y= 'selling_price', data = car_data_df.sort_values(\"selling_price\", ascending = False), kind=\"violin\", height = 5, aspect = 3)\n",
    "plt.show()"
   ]
  },
  {
   "cell_type": "markdown",
   "id": "f18f294b",
   "metadata": {
    "papermill": {
     "duration": 0.156013,
     "end_time": "2022-03-11T05:18:10.441783",
     "exception": false,
     "start_time": "2022-03-11T05:18:10.285770",
     "status": "completed"
    },
    "tags": []
   },
   "source": [
    "These categorical plots re-inforce what we discovered with the bar plots. They also gives us a quick look at the probability distribution of each category. A lot of them do not follow a gaussian distribution, but that is okay in our case since we will be using XGBoost. Scaling and transforming is espcially important for algorithms that use gradient descent or a distance based learning such as KNN."
   ]
  },
  {
   "cell_type": "markdown",
   "id": "7da1cb57",
   "metadata": {
    "papermill": {
     "duration": 0.098161,
     "end_time": "2022-03-11T05:18:10.691536",
     "exception": false,
     "start_time": "2022-03-11T05:18:10.593375",
     "status": "completed"
    },
    "tags": []
   },
   "source": [
    "<div class=\"alert alert-block alert-success\">  \n",
    "<b>What we found:</b> From the EDA, we notice that we do not have any missing data. We also notice we have a year column that we can transform into a year_old column. \n",
    "</div>"
   ]
  },
  {
   "cell_type": "markdown",
   "id": "2d3f2eae",
   "metadata": {
    "papermill": {
     "duration": 0.096109,
     "end_time": "2022-03-11T05:18:10.884318",
     "exception": false,
     "start_time": "2022-03-11T05:18:10.788209",
     "status": "completed"
    },
    "tags": []
   },
   "source": [
    "# Feature Engineering\n",
    "In this section, we take the data and preprocess and engineer it so that it is ready to be fed to our model. There are many steps to this."
   ]
  },
  {
   "cell_type": "markdown",
   "id": "3c0c44c1",
   "metadata": {
    "papermill": {
     "duration": 0.099982,
     "end_time": "2022-03-11T05:18:11.080758",
     "exception": false,
     "start_time": "2022-03-11T05:18:10.980776",
     "status": "completed"
    },
    "tags": []
   },
   "source": [
    "## Prepare the Data\n",
    "In this subsection, we look into preparing the feature columns. That can be done by transforming the type of the column to a proper one, creating datetime features from our date column or even adding more valuable feature column (such as holidays) to our dataframe. This is the first step before going to other feature engineering steps."
   ]
  },
  {
   "cell_type": "code",
   "execution_count": 120,
   "id": "f2a7e405",
   "metadata": {
    "execution": {
     "iopub.execute_input": "2022-03-11T05:18:11.284117Z",
     "iopub.status.busy": "2022-03-11T05:18:11.282561Z",
     "iopub.status.idle": "2022-03-11T05:18:11.284719Z",
     "shell.execute_reply": "2022-03-11T05:18:11.285112Z",
     "shell.execute_reply.started": "2022-03-11T04:53:39.094903Z"
    },
    "papermill": {
     "duration": 0.103034,
     "end_time": "2022-03-11T05:18:11.285242",
     "exception": false,
     "start_time": "2022-03-11T05:18:11.182208",
     "status": "completed"
    },
    "tags": []
   },
   "outputs": [],
   "source": [
    "TARGET = 'selling_price'\n",
    "\n",
    "now = datetime.datetime.now()\n",
    "car_data_df[\"Year_Old\"] = now.year - car_data_df[\"year\"]\n",
    "car_data_df.drop([\"year\"],axis=1, inplace=True)"
   ]
  },
  {
   "cell_type": "code",
   "execution_count": 121,
   "id": "cbb7aa64",
   "metadata": {
    "execution": {
     "iopub.execute_input": "2022-03-11T05:18:11.691270Z",
     "iopub.status.busy": "2022-03-11T05:18:11.690596Z",
     "iopub.status.idle": "2022-03-11T05:18:11.693458Z",
     "shell.execute_reply": "2022-03-11T05:18:11.693850Z",
     "shell.execute_reply.started": "2022-03-11T04:53:39.112529Z"
    },
    "papermill": {
     "duration": 0.110208,
     "end_time": "2022-03-11T05:18:11.693969",
     "exception": false,
     "start_time": "2022-03-11T05:18:11.583761",
     "status": "completed"
    },
    "tags": []
   },
   "outputs": [
    {
     "data": {
      "text/html": [
       "<div>\n",
       "<style scoped>\n",
       "    .dataframe tbody tr th:only-of-type {\n",
       "        vertical-align: middle;\n",
       "    }\n",
       "\n",
       "    .dataframe tbody tr th {\n",
       "        vertical-align: top;\n",
       "    }\n",
       "\n",
       "    .dataframe thead th {\n",
       "        text-align: right;\n",
       "    }\n",
       "</style>\n",
       "<table border=\"1\" class=\"dataframe\">\n",
       "  <thead>\n",
       "    <tr style=\"text-align: right;\">\n",
       "      <th></th>\n",
       "      <th>name</th>\n",
       "      <th>selling_price</th>\n",
       "      <th>km_driven</th>\n",
       "      <th>fuel</th>\n",
       "      <th>seller_type</th>\n",
       "      <th>transmission</th>\n",
       "      <th>owner</th>\n",
       "      <th>engine</th>\n",
       "      <th>seats</th>\n",
       "      <th>Year_Old</th>\n",
       "    </tr>\n",
       "  </thead>\n",
       "  <tbody>\n",
       "    <tr>\n",
       "      <th>0</th>\n",
       "      <td>Maruti Swift Dzire VDI</td>\n",
       "      <td>6164</td>\n",
       "      <td>145500</td>\n",
       "      <td>Diesel</td>\n",
       "      <td>Individual</td>\n",
       "      <td>Manual</td>\n",
       "      <td>First Owner</td>\n",
       "      <td>1248 CC</td>\n",
       "      <td>5.0</td>\n",
       "      <td>8</td>\n",
       "    </tr>\n",
       "    <tr>\n",
       "      <th>1</th>\n",
       "      <td>Skoda Rapid 1.5 TDI Ambition</td>\n",
       "      <td>5068</td>\n",
       "      <td>120000</td>\n",
       "      <td>Diesel</td>\n",
       "      <td>Individual</td>\n",
       "      <td>Manual</td>\n",
       "      <td>Second Owner</td>\n",
       "      <td>1498 CC</td>\n",
       "      <td>5.0</td>\n",
       "      <td>8</td>\n",
       "    </tr>\n",
       "    <tr>\n",
       "      <th>2</th>\n",
       "      <td>Honda City 2017-2020 EXi</td>\n",
       "      <td>2164</td>\n",
       "      <td>140000</td>\n",
       "      <td>Petrol</td>\n",
       "      <td>Individual</td>\n",
       "      <td>Manual</td>\n",
       "      <td>Third Owner</td>\n",
       "      <td>1497 CC</td>\n",
       "      <td>5.0</td>\n",
       "      <td>16</td>\n",
       "    </tr>\n",
       "    <tr>\n",
       "      <th>3</th>\n",
       "      <td>Hyundai i20 Sportz Diesel</td>\n",
       "      <td>3082</td>\n",
       "      <td>127000</td>\n",
       "      <td>Diesel</td>\n",
       "      <td>Individual</td>\n",
       "      <td>Manual</td>\n",
       "      <td>First Owner</td>\n",
       "      <td>1396 CC</td>\n",
       "      <td>5.0</td>\n",
       "      <td>12</td>\n",
       "    </tr>\n",
       "    <tr>\n",
       "      <th>4</th>\n",
       "      <td>Maruti Swift VXI BSIII</td>\n",
       "      <td>1781</td>\n",
       "      <td>120000</td>\n",
       "      <td>Petrol</td>\n",
       "      <td>Individual</td>\n",
       "      <td>Manual</td>\n",
       "      <td>First Owner</td>\n",
       "      <td>1298 CC</td>\n",
       "      <td>5.0</td>\n",
       "      <td>15</td>\n",
       "    </tr>\n",
       "  </tbody>\n",
       "</table>\n",
       "</div>"
      ],
      "text/plain": [
       "                           name  selling_price  km_driven    fuel seller_type  \\\n",
       "0        Maruti Swift Dzire VDI           6164     145500  Diesel  Individual   \n",
       "1  Skoda Rapid 1.5 TDI Ambition           5068     120000  Diesel  Individual   \n",
       "2      Honda City 2017-2020 EXi           2164     140000  Petrol  Individual   \n",
       "3     Hyundai i20 Sportz Diesel           3082     127000  Diesel  Individual   \n",
       "4        Maruti Swift VXI BSIII           1781     120000  Petrol  Individual   \n",
       "\n",
       "  transmission         owner   engine  seats  Year_Old  \n",
       "0       Manual   First Owner  1248 CC    5.0         8  \n",
       "1       Manual  Second Owner  1498 CC    5.0         8  \n",
       "2       Manual   Third Owner  1497 CC    5.0        16  \n",
       "3       Manual   First Owner  1396 CC    5.0        12  \n",
       "4       Manual   First Owner  1298 CC    5.0        15  "
      ]
     },
     "execution_count": 121,
     "metadata": {},
     "output_type": "execute_result"
    }
   ],
   "source": [
    "car_data_df.head()"
   ]
  },
  {
   "cell_type": "markdown",
   "id": "f4dd3348",
   "metadata": {
    "papermill": {
     "duration": 0.096979,
     "end_time": "2022-03-11T05:18:11.888086",
     "exception": false,
     "start_time": "2022-03-11T05:18:11.791107",
     "status": "completed"
    },
    "tags": []
   },
   "source": [
    "## Handling Missing Values \n",
    "In this subsection, we look if we have any missing data, if so, we take care of it. We already saw beforehand that there is no missing data, but I wanted to show this chain of funcitons that can quickly give you the amount of missing values for each column."
   ]
  },
  {
   "cell_type": "code",
   "execution_count": 122,
   "id": "34d94b0f",
   "metadata": {
    "execution": {
     "iopub.execute_input": "2022-03-11T05:18:12.088094Z",
     "iopub.status.busy": "2022-03-11T05:18:12.087584Z",
     "iopub.status.idle": "2022-03-11T05:18:12.092789Z",
     "shell.execute_reply": "2022-03-11T05:18:12.092378Z",
     "shell.execute_reply.started": "2022-03-11T04:53:39.130222Z"
    },
    "papermill": {
     "duration": 0.108862,
     "end_time": "2022-03-11T05:18:12.092899",
     "exception": false,
     "start_time": "2022-03-11T05:18:11.984037",
     "status": "completed"
    },
    "tags": []
   },
   "outputs": [
    {
     "data": {
      "text/plain": [
       "name               0\n",
       "selling_price      0\n",
       "km_driven          0\n",
       "fuel               0\n",
       "seller_type        0\n",
       "transmission       0\n",
       "owner              0\n",
       "engine           221\n",
       "seats            221\n",
       "Year_Old           0\n",
       "dtype: int64"
      ]
     },
     "execution_count": 122,
     "metadata": {},
     "output_type": "execute_result"
    }
   ],
   "source": [
    "car_data_df.isna().sum()"
   ]
  },
  {
   "cell_type": "code",
   "execution_count": 123,
   "id": "431c251a",
   "metadata": {
    "execution": {
     "iopub.execute_input": "2022-03-11T05:18:12.293662Z",
     "iopub.status.busy": "2022-03-11T05:18:12.292853Z",
     "iopub.status.idle": "2022-03-11T05:18:12.295369Z",
     "shell.execute_reply": "2022-03-11T05:18:12.294951Z",
     "shell.execute_reply.started": "2022-03-11T04:53:39.142305Z"
    },
    "papermill": {
     "duration": 0.104383,
     "end_time": "2022-03-11T05:18:12.295488",
     "exception": false,
     "start_time": "2022-03-11T05:18:12.191105",
     "status": "completed"
    },
    "tags": []
   },
   "outputs": [],
   "source": [
    "def dist_plots(df):\n",
    "    plt.figure(figsize=(10,5))\n",
    "    plt.title(\"Distribution Plot\")\n",
    "    sns.distplot(df)\n",
    "    sns.despine()\n",
    "    plt.show()"
   ]
  },
  {
   "cell_type": "code",
   "execution_count": 124,
   "id": "d52c9f8a",
   "metadata": {
    "execution": {
     "iopub.execute_input": "2022-03-11T05:18:12.493444Z",
     "iopub.status.busy": "2022-03-11T05:18:12.492610Z",
     "iopub.status.idle": "2022-03-11T05:18:12.746293Z",
     "shell.execute_reply": "2022-03-11T05:18:12.745891Z",
     "shell.execute_reply.started": "2022-03-11T04:53:39.150464Z"
    },
    "papermill": {
     "duration": 0.354419,
     "end_time": "2022-03-11T05:18:12.746439",
     "exception": false,
     "start_time": "2022-03-11T05:18:12.392020",
     "status": "completed"
    },
    "tags": []
   },
   "outputs": [
    {
     "name": "stdout",
     "output_type": "stream",
     "text": [
      "4.193545072435777\n"
     ]
    },
    {
     "data": {
      "image/png": "[encoded data removed]",
      "text/plain": [
       "<Figure size 720x360 with 1 Axes>"
      ]
     },
     "metadata": {},
     "output_type": "display_data"
    }
   ],
   "source": [
    "print(car_data_df[TARGET].skew())\n",
    "dist_plots(car_data_df[TARGET])"
   ]
  },
  {
   "cell_type": "markdown",
   "id": "7085381b",
   "metadata": {
    "papermill": {
     "duration": 0.099539,
     "end_time": "2022-03-11T05:18:12.945794",
     "exception": false,
     "start_time": "2022-03-11T05:18:12.846255",
     "status": "completed"
    },
    "tags": []
   },
   "source": [
    "We notice that the distributiuon is right skewed. Let's try to fix this using log transformation"
   ]
  },
  {
   "cell_type": "markdown",
   "id": "2a32b202",
   "metadata": {
    "papermill": {
     "duration": 0.099759,
     "end_time": "2022-03-11T05:18:13.144241",
     "exception": false,
     "start_time": "2022-03-11T05:18:13.044482",
     "status": "completed"
    },
    "tags": []
   },
   "source": [
    "Here we are defining a function that takes care of the log transform of a column."
   ]
  },
  {
   "cell_type": "code",
   "execution_count": 125,
   "id": "51f2bcfd",
   "metadata": {
    "execution": {
     "iopub.execute_input": "2022-03-11T05:18:13.363053Z",
     "iopub.status.busy": "2022-03-11T05:18:13.361942Z",
     "iopub.status.idle": "2022-03-11T05:18:13.364243Z",
     "shell.execute_reply": "2022-03-11T05:18:13.364836Z",
     "shell.execute_reply.started": "2022-03-11T04:53:39.408900Z"
    },
    "papermill": {
     "duration": 0.118429,
     "end_time": "2022-03-11T05:18:13.364994",
     "exception": false,
     "start_time": "2022-03-11T05:18:13.246565",
     "status": "completed"
    },
    "tags": []
   },
   "outputs": [],
   "source": [
    "def transform_target(df, target):\n",
    "    \"\"\"\n",
    "    Apply a log transformation to the target for better optimization \n",
    "    during training.\n",
    "    \"\"\"\n",
    "    df[target] = np.log(df[target])\n",
    "    return df\n",
    "\n",
    "car_data_df = transform_target(car_data_df, TARGET)"
   ]
  },
  {
   "cell_type": "code",
   "execution_count": 126,
   "id": "f427c0a9",
   "metadata": {
    "execution": {
     "iopub.execute_input": "2022-03-11T05:18:13.592429Z",
     "iopub.status.busy": "2022-03-11T05:18:13.591623Z",
     "iopub.status.idle": "2022-03-11T05:18:13.918117Z",
     "shell.execute_reply": "2022-03-11T05:18:13.918543Z",
     "shell.execute_reply.started": "2022-03-11T04:53:39.416617Z"
    },
    "papermill": {
     "duration": 0.432792,
     "end_time": "2022-03-11T05:18:13.918691",
     "exception": false,
     "start_time": "2022-03-11T05:18:13.485899",
     "status": "completed"
    },
    "tags": []
   },
   "outputs": [
    {
     "name": "stdout",
     "output_type": "stream",
     "text": [
      "0.2231776462017017\n"
     ]
    },
    {
     "data": {
      "image/png": "[encoded data removed]",
      "text/plain": [
       "<Figure size 720x360 with 1 Axes>"
      ]
     },
     "metadata": {},
     "output_type": "display_data"
    }
   ],
   "source": [
    "print(car_data_df[TARGET].skew())\n",
    "dist_plots(car_data_df[TARGET])"
   ]
  },
  {
   "cell_type": "markdown",
   "id": "320e5899",
   "metadata": {
    "papermill": {
     "duration": 0.100603,
     "end_time": "2022-03-11T05:18:14.120701",
     "exception": false,
     "start_time": "2022-03-11T05:18:14.020098",
     "status": "completed"
    },
    "tags": []
   },
   "source": [
    "## Handling Categorical Data\n",
    "So that the model can understand categorical data, we must transform them in a numerical form. There is various ways to do that. "
   ]
  },
  {
   "cell_type": "markdown",
   "id": "6214ad29",
   "metadata": {
    "papermill": {
     "duration": 0.099102,
     "end_time": "2022-03-11T05:18:14.321099",
     "exception": false,
     "start_time": "2022-03-11T05:18:14.221997",
     "status": "completed"
    },
    "tags": []
   },
   "source": [
    "Some of them categorical data are,\n",
    "<div class=\"alert alert-block alert-info\">\n",
    "<b>Nominal Data</b> --> data are not in any order --> OneHotEncoder is used in this case\n",
    "</div>\n",
    "<div class=\"alert alert-block alert-info\">\n",
    "<b>Ordinal data </b> --> data are in order --> LabelEncoder is used in this case\n",
    "</div>"
   ]
  },
  {
   "cell_type": "markdown",
   "id": "5a6b4b33",
   "metadata": {
    "papermill": {
     "duration": 0.098627,
     "end_time": "2022-03-11T05:18:14.518792",
     "exception": false,
     "start_time": "2022-03-11T05:18:14.420165",
     "status": "completed"
    },
    "tags": []
   },
   "source": [
    "Since all our columns are of the nominal type, we are going to use one hot encoding. To do so, we are defining a function that uses get_dummies() method to one hot encode our categorical data."
   ]
  },
  {
   "cell_type": "code",
   "execution_count": 127,
   "id": "9bc59a36",
   "metadata": {
    "execution": {
     "iopub.execute_input": "2022-03-11T05:18:14.722362Z",
     "iopub.status.busy": "2022-03-11T05:18:14.721490Z",
     "iopub.status.idle": "2022-03-11T05:18:14.723272Z",
     "shell.execute_reply": "2022-03-11T05:18:14.723757Z",
     "shell.execute_reply.started": "2022-03-11T04:53:39.818398Z"
    },
    "papermill": {
     "duration": 0.106365,
     "end_time": "2022-03-11T05:18:14.723890",
     "exception": false,
     "start_time": "2022-03-11T05:18:14.617525",
     "status": "completed"
    },
    "tags": []
   },
   "outputs": [],
   "source": [
    "# Convert the Categorical variables to one-hot encoded features...\n",
    "# It will help in the training process\n",
    "def create_one_hot(df, categ_colums):\n",
    "    \"\"\"\n",
    "    Creates one_hot encoded fields for the specified categorical columns...\n",
    "    Args\n",
    "        df\n",
    "        categ_colums\n",
    "    Returns\n",
    "        df\n",
    "    \"\"\"\n",
    "    df = pd.get_dummies(df, columns=categ_colums)\n",
    "    return df"
   ]
  },
  {
   "cell_type": "markdown",
   "id": "c9469e1b",
   "metadata": {
    "papermill": {
     "duration": 0.098887,
     "end_time": "2022-03-11T05:18:14.922965",
     "exception": false,
     "start_time": "2022-03-11T05:18:14.824078",
     "status": "completed"
    },
    "tags": []
   },
   "source": [
    "Let's get all numerical and categorical columns. We have to call our function again since we've been prepraring the data and adding/removing/transforming columns."
   ]
  },
  {
   "cell_type": "code",
   "execution_count": 128,
   "id": "f4393fd7",
   "metadata": {
    "execution": {
     "iopub.execute_input": "2022-03-11T05:18:15.132504Z",
     "iopub.status.busy": "2022-03-11T05:18:15.131742Z",
     "iopub.status.idle": "2022-03-11T05:18:15.134200Z",
     "shell.execute_reply": "2022-03-11T05:18:15.133801Z",
     "shell.execute_reply.started": "2022-03-11T04:53:39.827938Z"
    },
    "papermill": {
     "duration": 0.105737,
     "end_time": "2022-03-11T05:18:15.134310",
     "exception": false,
     "start_time": "2022-03-11T05:18:15.028573",
     "status": "completed"
    },
    "tags": []
   },
   "outputs": [],
   "source": [
    "object_cols, num_cols, feature_cols = get_all_cols(car_data_df, \"selling_price\")"
   ]
  },
  {
   "cell_type": "code",
   "execution_count": 129,
   "id": "cd40d61d",
   "metadata": {
    "execution": {
     "iopub.execute_input": "2022-03-11T05:18:15.341239Z",
     "iopub.status.busy": "2022-03-11T05:18:15.340454Z",
     "iopub.status.idle": "2022-03-11T05:18:15.345867Z",
     "shell.execute_reply": "2022-03-11T05:18:15.346229Z",
     "shell.execute_reply.started": "2022-03-11T04:53:39.841469Z"
    },
    "papermill": {
     "duration": 0.112368,
     "end_time": "2022-03-11T05:18:15.346387",
     "exception": false,
     "start_time": "2022-03-11T05:18:15.234019",
     "status": "completed"
    },
    "tags": []
   },
   "outputs": [],
   "source": [
    "car_data_df = create_one_hot(car_data_df, object_cols)"
   ]
  },
  {
   "cell_type": "markdown",
   "id": "a1beee90",
   "metadata": {
    "papermill": {
     "duration": 0.100653,
     "end_time": "2022-03-11T05:18:15.548227",
     "exception": false,
     "start_time": "2022-03-11T05:18:15.447574",
     "status": "completed"
    },
    "tags": []
   },
   "source": [
    "## Feature Selection\n",
    "\n",
    "Finding out the best feature which will contribute and have good relation with target variable.\n",
    "Following are some of the feature selection methods,"
   ]
  },
  {
   "cell_type": "markdown",
   "id": "58339fe8",
   "metadata": {
    "papermill": {
     "duration": 0.105044,
     "end_time": "2022-03-11T05:18:15.752204",
     "exception": false,
     "start_time": "2022-03-11T05:18:15.647160",
     "status": "completed"
    },
    "tags": []
   },
   "source": [
    "\n",
    "<div class=\"alert alert-block alert-info\">\n",
    "<b>1. heatmap</b> \n",
    "</div>\n",
    "<div class=\"alert alert-block alert-info\">\n",
    "<b>2. feature_importance_</b> \n",
    "</div>\n",
    "<div class=\"alert alert-block alert-info\">\n",
    "<b>3. SelectKBest</b> \n",
    "</div>"
   ]
  },
  {
   "cell_type": "code",
   "execution_count": 130,
   "id": "b15fae4d",
   "metadata": {
    "execution": {
     "iopub.execute_input": "2022-03-11T05:18:15.957347Z",
     "iopub.status.busy": "2022-03-11T05:18:15.956444Z",
     "iopub.status.idle": "2022-03-11T05:18:15.964418Z",
     "shell.execute_reply": "2022-03-11T05:18:15.964002Z",
     "shell.execute_reply.started": "2022-03-11T04:53:39.861715Z"
    },
    "papermill": {
     "duration": 0.112474,
     "end_time": "2022-03-11T05:18:15.964540",
     "exception": false,
     "start_time": "2022-03-11T05:18:15.852066",
     "status": "completed"
    },
    "tags": []
   },
   "outputs": [],
   "source": [
    "object_cols, num_cols, feature_cols = get_all_cols(car_data_df, \"selling_price\")"
   ]
  },
  {
   "cell_type": "code",
   "execution_count": 131,
   "id": "d30b3448",
   "metadata": {
    "execution": {
     "iopub.execute_input": "2022-03-11T05:18:16.166380Z",
     "iopub.status.busy": "2022-03-11T05:18:16.165720Z",
     "iopub.status.idle": "2022-03-11T05:18:16.168154Z",
     "shell.execute_reply": "2022-03-11T05:18:16.167753Z",
     "shell.execute_reply.started": "2022-03-11T04:53:39.884991Z"
    },
    "papermill": {
     "duration": 0.10459,
     "end_time": "2022-03-11T05:18:16.168261",
     "exception": false,
     "start_time": "2022-03-11T05:18:16.063671",
     "status": "completed"
    },
    "tags": []
   },
   "outputs": [],
   "source": [
    "feature_cols_plus_target = [TARGET] + feature_cols"
   ]
  },
  {
   "cell_type": "markdown",
   "id": "642a7289",
   "metadata": {
    "papermill": {
     "duration": 0.098568,
     "end_time": "2022-03-11T05:18:16.366142",
     "exception": false,
     "start_time": "2022-03-11T05:18:16.267574",
     "status": "completed"
    },
    "tags": []
   },
   "source": [
    "<div class=\"alert alert-block alert-warning\">  \n",
    "<b>Note:</b> We are filtering uptil the 4th column since after , it is the one hot encoded features. I decided to not plot those since the heatmap will\n",
    "    be too dense.\n",
    "</div>"
   ]
  },
  {
   "cell_type": "code",
   "execution_count": 132,
   "id": "08ea6751",
   "metadata": {
    "execution": {
     "iopub.execute_input": "2022-03-11T05:18:16.570937Z",
     "iopub.status.busy": "2022-03-11T05:18:16.570127Z",
     "iopub.status.idle": "2022-03-11T05:18:16.906690Z",
     "shell.execute_reply": "2022-03-11T05:18:16.907102Z",
     "shell.execute_reply.started": "2022-03-11T04:53:39.893740Z"
    },
    "papermill": {
     "duration": 0.442204,
     "end_time": "2022-03-11T05:18:16.907249",
     "exception": false,
     "start_time": "2022-03-11T05:18:16.465045",
     "status": "completed"
    },
    "tags": []
   },
   "outputs": [
    {
     "data": {
      "image/png": "[encoded data removed]",
      "text/plain": [
       "<Figure size 1296x1296 with 2 Axes>"
      ]
     },
     "metadata": {},
     "output_type": "display_data"
    }
   ],
   "source": [
    "heatmap_df = car_data_df[feature_cols_plus_target].iloc[:,:4]\n",
    "\n",
    "plt.figure(figsize = (18,18))\n",
    "sns.heatmap(heatmap_df.corr(), annot = True, cmap = \"RdYlGn\")\n",
    "\n",
    "plt.show()"
   ]
  },
  {
   "cell_type": "markdown",
   "id": "498d6a02",
   "metadata": {
    "papermill": {
     "duration": 0.101039,
     "end_time": "2022-03-11T05:18:17.118007",
     "exception": false,
     "start_time": "2022-03-11T05:18:17.016968",
     "status": "completed"
    },
    "tags": []
   },
   "source": [
    "**We notice what has the highest effect on our target variable. We notice:**\n",
    "\n",
    "The Year_Old has the highest negative correlation with the target variable which also makes sense. The older the car, the more the deterioration thus the lower the price."
   ]
  },
  {
   "cell_type": "markdown",
   "id": "b40507b5",
   "metadata": {
    "papermill": {
     "duration": 0.100213,
     "end_time": "2022-03-11T05:18:17.318921",
     "exception": false,
     "start_time": "2022-03-11T05:18:17.218708",
     "status": "completed"
    },
    "tags": []
   },
   "source": [
    "### Feature importance (Extra Tree Regressor)\n",
    "You can also use the ExtraTressRegressor from sklearn which will allows you to easily see what are the important features for the Target Price.\n"
   ]
  },
  {
   "cell_type": "code",
   "execution_count": 133,
   "id": "7b7f2c58",
   "metadata": {
    "execution": {
     "iopub.execute_input": "2022-03-11T05:18:17.529474Z",
     "iopub.status.busy": "2022-03-11T05:18:17.528677Z",
     "iopub.status.idle": "2022-03-11T05:18:17.532176Z",
     "shell.execute_reply": "2022-03-11T05:18:17.531784Z",
     "shell.execute_reply.started": "2022-03-11T04:53:40.344411Z"
    },
    "papermill": {
     "duration": 0.111847,
     "end_time": "2022-03-11T05:18:17.532286",
     "exception": false,
     "start_time": "2022-03-11T05:18:17.420439",
     "status": "completed"
    },
    "tags": []
   },
   "outputs": [],
   "source": [
    "object_cols, num_cols, feature_cols = get_all_cols(car_data_df, \"selling_price\")"
   ]
  },
  {
   "cell_type": "code",
   "execution_count": 134,
   "id": "34468022",
   "metadata": {
    "execution": {
     "iopub.execute_input": "2022-03-11T05:18:17.737615Z",
     "iopub.status.busy": "2022-03-11T05:18:17.736949Z",
     "iopub.status.idle": "2022-03-11T05:18:17.739150Z",
     "shell.execute_reply": "2022-03-11T05:18:17.739625Z",
     "shell.execute_reply.started": "2022-03-11T04:53:40.355680Z"
    },
    "papermill": {
     "duration": 0.10773,
     "end_time": "2022-03-11T05:18:17.739757",
     "exception": false,
     "start_time": "2022-03-11T05:18:17.632027",
     "status": "completed"
    },
    "tags": []
   },
   "outputs": [],
   "source": [
    "X = car_data_df[feature_cols]\n",
    "y = car_data_df[TARGET]"
   ]
  },
  {
   "cell_type": "markdown",
   "id": "5b8a42e2",
   "metadata": {},
   "source": [
    "\n",
    "    To get the quicker result as because of time constrain we will impute mean value in the place of NaN values"
   ]
  },
  {
   "cell_type": "code",
   "execution_count": 135,
   "id": "f8bb8162",
   "metadata": {},
   "outputs": [],
   "source": [
    "#to fill with mean value\n",
    "X = X.fillna(X.mean())\n",
    "#X = np.nan_to_num(X)"
   ]
  },
  {
   "cell_type": "code",
   "execution_count": 136,
   "id": "22f9015e",
   "metadata": {
    "execution": {
     "iopub.execute_input": "2022-03-11T05:18:17.944874Z",
     "iopub.status.busy": "2022-03-11T05:18:17.944095Z",
     "iopub.status.idle": "2022-03-11T05:18:18.306524Z",
     "shell.execute_reply": "2022-03-11T05:18:18.306076Z",
     "shell.execute_reply.started": "2022-03-11T04:53:40.366275Z"
    },
    "papermill": {
     "duration": 0.465672,
     "end_time": "2022-03-11T05:18:18.306652",
     "exception": false,
     "start_time": "2022-03-11T05:18:17.840980",
     "status": "completed"
    },
    "tags": []
   },
   "outputs": [
    {
     "data": {
      "text/plain": [
       "ExtraTreesRegressor()"
      ]
     },
     "execution_count": 136,
     "metadata": {},
     "output_type": "execute_result"
    }
   ],
   "source": [
    "# Important feature using ExtraTreesRegressor\n",
    "from sklearn.ensemble import ExtraTreesRegressor\n",
    "selection = ExtraTreesRegressor()\n",
    "selection.fit(X, y)"
   ]
  },
  {
   "cell_type": "markdown",
   "id": "8e6db6af",
   "metadata": {
    "papermill": {
     "duration": 0.10206,
     "end_time": "2022-03-11T05:18:18.510985",
     "exception": false,
     "start_time": "2022-03-11T05:18:18.408925",
     "status": "completed"
    },
    "tags": []
   },
   "source": [
    "You can print it, but it isn't the prettiest."
   ]
  },
  {
   "cell_type": "code",
   "execution_count": 137,
   "id": "4d00df59",
   "metadata": {
    "execution": {
     "iopub.execute_input": "2022-03-11T05:18:18.724061Z",
     "iopub.status.busy": "2022-03-11T05:18:18.721101Z",
     "iopub.status.idle": "2022-03-11T05:18:18.734550Z",
     "shell.execute_reply": "2022-03-11T05:18:18.735238Z",
     "shell.execute_reply.started": "2022-03-11T04:53:40.723831Z"
    },
    "papermill": {
     "duration": 0.122699,
     "end_time": "2022-03-11T05:18:18.735431",
     "exception": false,
     "start_time": "2022-03-11T05:18:18.612732",
     "status": "completed"
    },
    "tags": []
   },
   "outputs": [
    {
     "name": "stdout",
     "output_type": "stream",
     "text": [
      "[0.01906232 0.02411039 0.30631187 ... 0.00199613 0.00433447 0.00198072]\n"
     ]
    }
   ],
   "source": [
    "print(selection.feature_importances_)"
   ]
  },
  {
   "cell_type": "code",
   "execution_count": 138,
   "id": "5c0f70fe",
   "metadata": {
    "execution": {
     "iopub.execute_input": "2022-03-11T05:18:18.949464Z",
     "iopub.status.busy": "2022-03-11T05:18:18.948641Z",
     "iopub.status.idle": "2022-03-11T05:18:19.270172Z",
     "shell.execute_reply": "2022-03-11T05:18:19.270600Z",
     "shell.execute_reply.started": "2022-03-11T04:53:40.746767Z"
    },
    "papermill": {
     "duration": 0.431576,
     "end_time": "2022-03-11T05:18:19.270752",
     "exception": false,
     "start_time": "2022-03-11T05:18:18.839176",
     "status": "completed"
    },
    "tags": []
   },
   "outputs": [
    {
     "data": {
      "image/png": "[encoded data removed]",
      "text/plain": [
       "<Figure size 864x576 with 1 Axes>"
      ]
     },
     "metadata": {},
     "output_type": "display_data"
    }
   ],
   "source": [
    "plt.figure(figsize = (12,8))\n",
    "feat_importances = pd.Series(selection.feature_importances_, index=X.columns)\n",
    "feat_importances.nlargest(20).plot(kind='barh')\n",
    "plt.show()"
   ]
  },
  {
   "cell_type": "markdown",
   "id": "7371379e",
   "metadata": {
    "papermill": {
     "duration": 0.107711,
     "end_time": "2022-03-11T05:18:19.488955",
     "exception": false,
     "start_time": "2022-03-11T05:18:19.381244",
     "status": "completed"
    },
    "tags": []
   },
   "source": [
    "We also notice that the most important feature is the Year_old as found witht heatmap.\n",
    "\n",
    "From the feature importance plot, it is clear that the most important feature here is the trasmission_automatic, fuel_diesel. (Note that we didn't plot the categorical features with the heatmap). This makes sense since whenever  the car iis automatic and diesel its price is high.\n"
   ]
  },
  {
   "cell_type": "markdown",
   "id": "f3243c07",
   "metadata": {
    "papermill": {
     "duration": 0.103399,
     "end_time": "2022-03-11T05:18:19.700976",
     "exception": false,
     "start_time": "2022-03-11T05:18:19.597577",
     "status": "completed"
    },
    "tags": []
   },
   "source": [
    "## Splitting the data\n",
    "In this section, we will split the data in train and test set. Do not confuse test set with our test data. Test set is just a subsample of train_df."
   ]
  },
  {
   "cell_type": "code",
   "execution_count": null,
   "id": "0892e04d",
   "metadata": {
    "execution": {
     "iopub.execute_input": "2022-03-11T05:18:19.916345Z",
     "iopub.status.busy": "2022-03-11T05:18:19.915527Z",
     "iopub.status.idle": "2022-03-11T05:18:19.919181Z",
     "shell.execute_reply": "2022-03-11T05:18:19.918775Z",
     "shell.execute_reply.started": "2022-03-11T05:00:58.399829Z"
    },
    "papermill": {
     "duration": 0.114061,
     "end_time": "2022-03-11T05:18:19.919292",
     "exception": false,
     "start_time": "2022-03-11T05:18:19.805231",
     "status": "completed"
    },
    "tags": []
   },
   "outputs": [],
   "source": [
    "from sklearn.model_selection import train_test_split\n",
    "X_train, X_test, y_train, y_test = train_test_split(X, y, test_size = 0.2, random_state = 42)"
   ]
  },
  {
   "cell_type": "markdown",
   "id": "86677587",
   "metadata": {
    "papermill": {
     "duration": 0.10317,
     "end_time": "2022-03-11T05:18:20.129676",
     "exception": false,
     "start_time": "2022-03-11T05:18:20.026506",
     "status": "completed"
    },
    "tags": []
   },
   "source": [
    "# Models\n",
    "In this section, we will explore two models:\n",
    "\n",
    "1. RandomForestRegressor\n",
    "2. XGBRegressor"
   ]
  },
  {
   "cell_type": "markdown",
   "id": "f77c0a8d",
   "metadata": {
    "papermill": {
     "duration": 0.10356,
     "end_time": "2022-03-11T05:18:20.335436",
     "exception": false,
     "start_time": "2022-03-11T05:18:20.231876",
     "status": "completed"
    },
    "tags": []
   },
   "source": [
    "## Training\n",
    "We've prepared the food (data), time to... FEED THE MACHINE."
   ]
  },
  {
   "cell_type": "code",
   "execution_count": 140,
   "id": "bdab857d",
   "metadata": {
    "execution": {
     "iopub.execute_input": "2022-03-11T05:18:20.549125Z",
     "iopub.status.busy": "2022-03-11T05:18:20.548291Z",
     "iopub.status.idle": "2022-03-11T05:18:23.317364Z",
     "shell.execute_reply": "2022-03-11T05:18:23.317852Z",
     "shell.execute_reply.started": "2022-03-11T05:09:17.169858Z"
    },
    "papermill": {
     "duration": 2.87962,
     "end_time": "2022-03-11T05:18:23.318012",
     "exception": false,
     "start_time": "2022-03-11T05:18:20.438392",
     "status": "completed"
    },
    "tags": []
   },
   "outputs": [],
   "source": [
    "from xgboost import XGBRegressor \n",
    "from sklearn.ensemble import RandomForestRegressor\n",
    "\n",
    "rf_model = RandomForestRegressor()\n",
    "xgboost_model = XGBRegressor(n_jobs = -1)\n",
    "\n",
    "hist_rf_model = rf_model.fit(X_train, y_train)\n",
    "hist_xgboost_model= xgboost_model.fit(X_train, y_train)"
   ]
  },
  {
   "cell_type": "markdown",
   "id": "f8e04624",
   "metadata": {
    "papermill": {
     "duration": 0.150416,
     "end_time": "2022-03-11T05:18:23.574496",
     "exception": false,
     "start_time": "2022-03-11T05:18:23.424080",
     "status": "completed"
    },
    "tags": []
   },
   "source": [
    "## Predicting\n",
    "In this subsection, we will use the basic trained model to predict on our test set (not test data)."
   ]
  },
  {
   "cell_type": "code",
   "execution_count": 141,
   "id": "0a1c7c88",
   "metadata": {
    "execution": {
     "iopub.execute_input": "2022-03-11T05:18:23.792556Z",
     "iopub.status.busy": "2022-03-11T05:18:23.791706Z",
     "iopub.status.idle": "2022-03-11T05:18:23.806012Z",
     "shell.execute_reply": "2022-03-11T05:18:23.806450Z",
     "shell.execute_reply.started": "2022-03-11T05:02:20.557419Z"
    },
    "papermill": {
     "duration": 0.125926,
     "end_time": "2022-03-11T05:18:23.806611",
     "exception": false,
     "start_time": "2022-03-11T05:18:23.680685",
     "status": "completed"
    },
    "tags": []
   },
   "outputs": [],
   "source": [
    "y_pred_rf = rf_model.predict(X_test)\n",
    "y_pred_xgboost = xgboost_model.predict(X_test)"
   ]
  },
  {
   "cell_type": "code",
   "execution_count": 142,
   "id": "a026f0e9",
   "metadata": {
    "execution": {
     "iopub.execute_input": "2022-03-11T05:18:24.025091Z",
     "iopub.status.busy": "2022-03-11T05:18:24.024247Z",
     "iopub.status.idle": "2022-03-11T05:18:24.045741Z",
     "shell.execute_reply": "2022-03-11T05:18:24.045175Z",
     "shell.execute_reply.started": "2022-03-11T05:02:33.043691Z"
    },
    "papermill": {
     "duration": 0.132163,
     "end_time": "2022-03-11T05:18:24.045869",
     "exception": false,
     "start_time": "2022-03-11T05:18:23.913706",
     "status": "completed"
    },
    "tags": []
   },
   "outputs": [
    {
     "name": "stdout",
     "output_type": "stream",
     "text": [
      "0.9876352628049585\n",
      "0.9428001476116428\n"
     ]
    }
   ],
   "source": [
    "print(rf_model.score(X_train, y_train))\n",
    "print(xgboost_model.score(X_train, y_train))"
   ]
  },
  {
   "cell_type": "code",
   "execution_count": 143,
   "id": "259e8f7a",
   "metadata": {
    "execution": {
     "iopub.execute_input": "2022-03-11T05:18:24.260907Z",
     "iopub.status.busy": "2022-03-11T05:18:24.260094Z",
     "iopub.status.idle": "2022-03-11T05:18:24.277871Z",
     "shell.execute_reply": "2022-03-11T05:18:24.277163Z",
     "shell.execute_reply.started": "2022-03-11T05:02:47.812643Z"
    },
    "papermill": {
     "duration": 0.127679,
     "end_time": "2022-03-11T05:18:24.278038",
     "exception": false,
     "start_time": "2022-03-11T05:18:24.150359",
     "status": "completed"
    },
    "tags": []
   },
   "outputs": [
    {
     "name": "stdout",
     "output_type": "stream",
     "text": [
      "1.0\n",
      "1.0\n"
     ]
    }
   ],
   "source": [
    "print(rf_model.score(X_test, y_pred_rf))\n",
    "print(xgboost_model.score(X_test, y_pred_xgboost))"
   ]
  },
  {
   "cell_type": "markdown",
   "id": "1ac7fafd",
   "metadata": {
    "papermill": {
     "duration": 0.104041,
     "end_time": "2022-03-11T05:18:24.489108",
     "exception": false,
     "start_time": "2022-03-11T05:18:24.385067",
     "status": "completed"
    },
    "tags": []
   },
   "source": [
    "## Evaluating\n",
    "In this subsection, we evaluate using plots and metrics to see if our predictions are good or not."
   ]
  },
  {
   "cell_type": "markdown",
   "id": "a20d2cc8",
   "metadata": {
    "papermill": {
     "duration": 0.103495,
     "end_time": "2022-03-11T05:18:24.696097",
     "exception": false,
     "start_time": "2022-03-11T05:18:24.592602",
     "status": "completed"
    },
    "tags": []
   },
   "source": [
    "### Distribution plots"
   ]
  },
  {
   "cell_type": "code",
   "execution_count": 144,
   "id": "fab2c2a4",
   "metadata": {
    "execution": {
     "iopub.execute_input": "2022-03-11T05:18:24.922800Z",
     "iopub.status.busy": "2022-03-11T05:18:24.921942Z",
     "iopub.status.idle": "2022-03-11T05:18:25.147040Z",
     "shell.execute_reply": "2022-03-11T05:18:25.147449Z",
     "shell.execute_reply.started": "2022-03-11T05:03:40.111107Z"
    },
    "papermill": {
     "duration": 0.34731,
     "end_time": "2022-03-11T05:18:25.147598",
     "exception": false,
     "start_time": "2022-03-11T05:18:24.800288",
     "status": "completed"
    },
    "tags": []
   },
   "outputs": [
    {
     "data": {
      "image/png": "[encoded data removed]",
      "text/plain": [
       "<Figure size 576x432 with 1 Axes>"
      ]
     },
     "metadata": {},
     "output_type": "display_data"
    }
   ],
   "source": [
    "sns.distplot(y_test-y_pred_rf)\n",
    "plt.show()"
   ]
  },
  {
   "cell_type": "code",
   "execution_count": 145,
   "id": "aba74905",
   "metadata": {
    "execution": {
     "iopub.execute_input": "2022-03-11T05:18:25.363246Z",
     "iopub.status.busy": "2022-03-11T05:18:25.362475Z",
     "iopub.status.idle": "2022-03-11T05:18:25.620941Z",
     "shell.execute_reply": "2022-03-11T05:18:25.621631Z",
     "shell.execute_reply.started": "2022-03-11T05:03:40.982239Z"
    },
    "papermill": {
     "duration": 0.369644,
     "end_time": "2022-03-11T05:18:25.621784",
     "exception": false,
     "start_time": "2022-03-11T05:18:25.252140",
     "status": "completed"
    },
    "tags": []
   },
   "outputs": [
    {
     "data": {
      "image/png": "[encoded data removed]",
      "text/plain": [
       "<Figure size 576x432 with 1 Axes>"
      ]
     },
     "metadata": {},
     "output_type": "display_data"
    }
   ],
   "source": [
    "sns.distplot(y_test-y_pred_xgboost)\n",
    "plt.show()"
   ]
  },
  {
   "cell_type": "markdown",
   "id": "0d130b8f",
   "metadata": {
    "papermill": {
     "duration": 0.105639,
     "end_time": "2022-03-11T05:18:25.833222",
     "exception": false,
     "start_time": "2022-03-11T05:18:25.727583",
     "status": "completed"
    },
    "tags": []
   },
   "source": [
    "We notice that the disth plot for the XGBoost seems tigher and a bit less spread. As well the density at 0 is much higher for the XGBoost than the RandomForest. This means there is more predictions for the XGBoost model that is closer to the expected output."
   ]
  },
  {
   "cell_type": "markdown",
   "id": "b3f371fa",
   "metadata": {
    "papermill": {
     "duration": 0.105588,
     "end_time": "2022-03-11T05:18:26.045258",
     "exception": false,
     "start_time": "2022-03-11T05:18:25.939670",
     "status": "completed"
    },
    "tags": []
   },
   "source": [
    "### Scatter plot of Target and Predicted"
   ]
  },
  {
   "cell_type": "code",
   "execution_count": 146,
   "id": "2ba5637e",
   "metadata": {
    "execution": {
     "iopub.execute_input": "2022-03-11T05:18:26.265045Z",
     "iopub.status.busy": "2022-03-11T05:18:26.264232Z",
     "iopub.status.idle": "2022-03-11T05:18:26.465458Z",
     "shell.execute_reply": "2022-03-11T05:18:26.465002Z",
     "shell.execute_reply.started": "2022-03-11T05:05:58.821562Z"
    },
    "papermill": {
     "duration": 0.314973,
     "end_time": "2022-03-11T05:18:26.465587",
     "exception": false,
     "start_time": "2022-03-11T05:18:26.150614",
     "status": "completed"
    },
    "tags": []
   },
   "outputs": [
    {
     "data": {
      "image/png": "[encoded data removed]",
      "text/plain": [
       "<Figure size 576x432 with 1 Axes>"
      ]
     },
     "metadata": {},
     "output_type": "display_data"
    }
   ],
   "source": [
    "plt.scatter(y_test, y_pred_rf, alpha = 0.5)\n",
    "plt.xlabel(\"y_test\")\n",
    "plt.ylabel(\"y_pred\")\n",
    "plt.show()"
   ]
  },
  {
   "cell_type": "code",
   "execution_count": 147,
   "id": "f0bedb97",
   "metadata": {
    "execution": {
     "iopub.execute_input": "2022-03-11T05:18:26.703625Z",
     "iopub.status.busy": "2022-03-11T05:18:26.700988Z",
     "iopub.status.idle": "2022-03-11T05:18:26.889099Z",
     "shell.execute_reply": "2022-03-11T05:18:26.889531Z",
     "shell.execute_reply.started": "2022-03-11T05:06:03.207662Z"
    },
    "papermill": {
     "duration": 0.316286,
     "end_time": "2022-03-11T05:18:26.889681",
     "exception": false,
     "start_time": "2022-03-11T05:18:26.573395",
     "status": "completed"
    },
    "tags": []
   },
   "outputs": [
    {
     "data": {
      "image/png": "[encoded data removed]",
      "text/plain": [
       "<Figure size 576x432 with 1 Axes>"
      ]
     },
     "metadata": {},
     "output_type": "display_data"
    }
   ],
   "source": [
    "plt.scatter(y_test, y_pred_xgboost, alpha = 0.5)\n",
    "plt.xlabel(\"y_test\")\n",
    "plt.ylabel(\"y_pred\")\n",
    "plt.show()"
   ]
  },
  {
   "cell_type": "markdown",
   "id": "33427066",
   "metadata": {
    "papermill": {
     "duration": 0.108449,
     "end_time": "2022-03-11T05:18:27.115456",
     "exception": false,
     "start_time": "2022-03-11T05:18:27.007007",
     "status": "completed"
    },
    "tags": []
   },
   "source": [
    "We notice that the scatter plot for the XGBoost model is much tighter. The tighter and the more linear this graph is, the more the predicted and expected values are similar. In a perfect model, we would expect this slope to be 1."
   ]
  },
  {
   "cell_type": "markdown",
   "id": "d7f7a69f",
   "metadata": {
    "papermill": {
     "duration": 0.106082,
     "end_time": "2022-03-11T05:18:27.328469",
     "exception": false,
     "start_time": "2022-03-11T05:18:27.222387",
     "status": "completed"
    },
    "tags": []
   },
   "source": [
    "### Metrics to decide on which model to use\n",
    "I have chosen a handful of metrics, however the main one used of regression is usually R2 score."
   ]
  },
  {
   "cell_type": "code",
   "execution_count": 148,
   "id": "32dae44e",
   "metadata": {
    "execution": {
     "iopub.execute_input": "2022-03-11T05:18:27.547259Z",
     "iopub.status.busy": "2022-03-11T05:18:27.546462Z",
     "iopub.status.idle": "2022-03-11T05:18:27.548978Z",
     "shell.execute_reply": "2022-03-11T05:18:27.548567Z",
     "shell.execute_reply.started": "2022-03-11T05:06:51.881561Z"
    },
    "papermill": {
     "duration": 0.113543,
     "end_time": "2022-03-11T05:18:27.549096",
     "exception": false,
     "start_time": "2022-03-11T05:18:27.435553",
     "status": "completed"
    },
    "tags": []
   },
   "outputs": [],
   "source": [
    "from sklearn import metrics"
   ]
  },
  {
   "cell_type": "code",
   "execution_count": 149,
   "id": "b5f55108",
   "metadata": {
    "execution": {
     "iopub.execute_input": "2022-03-11T05:18:27.774723Z",
     "iopub.status.busy": "2022-03-11T05:18:27.772406Z",
     "iopub.status.idle": "2022-03-11T05:18:27.782488Z",
     "shell.execute_reply": "2022-03-11T05:18:27.781828Z",
     "shell.execute_reply.started": "2022-03-11T05:06:52.011315Z"
    },
    "papermill": {
     "duration": 0.126448,
     "end_time": "2022-03-11T05:18:27.782645",
     "exception": false,
     "start_time": "2022-03-11T05:18:27.656197",
     "status": "completed"
    },
    "tags": []
   },
   "outputs": [
    {
     "name": "stdout",
     "output_type": "stream",
     "text": [
      "RandomForest\n",
      "MAE: 0.1644314244313477\n",
      "MSE: 0.058658658208209154\n",
      "RMSE: 0.2421954958462464\n",
      "XGBoost\n",
      "MAE: 0.1898554727258005\n",
      "MSE: 0.06720890753489232\n",
      "RMSE: 0.2592468081479352\n"
     ]
    }
   ],
   "source": [
    "print('RandomForest')\n",
    "print('MAE:', metrics.mean_absolute_error(y_test, y_pred_rf))\n",
    "print('MSE:', metrics.mean_squared_error(y_test, y_pred_rf))\n",
    "print('RMSE:', np.sqrt(metrics.mean_squared_error(y_test, y_pred_rf)))\n",
    "\n",
    "print('XGBoost')\n",
    "print('MAE:', metrics.mean_absolute_error(y_test, y_pred_xgboost))\n",
    "print('MSE:', metrics.mean_squared_error(y_test, y_pred_xgboost))\n",
    "print('RMSE:', np.sqrt(metrics.mean_squared_error(y_test, y_pred_xgboost)))"
   ]
  },
  {
   "cell_type": "code",
   "execution_count": 150,
   "id": "27ee5608",
   "metadata": {
    "execution": {
     "iopub.execute_input": "2022-03-11T05:18:28.008446Z",
     "iopub.status.busy": "2022-03-11T05:18:28.007736Z",
     "iopub.status.idle": "2022-03-11T05:18:28.010344Z",
     "shell.execute_reply": "2022-03-11T05:18:28.010846Z",
     "shell.execute_reply.started": "2022-03-11T05:07:07.276447Z"
    },
    "papermill": {
     "duration": 0.117416,
     "end_time": "2022-03-11T05:18:28.010974",
     "exception": false,
     "start_time": "2022-03-11T05:18:27.893558",
     "status": "completed"
    },
    "tags": []
   },
   "outputs": [
    {
     "data": {
      "text/plain": [
       "0.9143760767818412"
      ]
     },
     "execution_count": 150,
     "metadata": {},
     "output_type": "execute_result"
    }
   ],
   "source": [
    "metrics.r2_score(y_test, y_pred_rf)"
   ]
  },
  {
   "cell_type": "code",
   "execution_count": 151,
   "id": "902c52d0",
   "metadata": {
    "execution": {
     "iopub.execute_input": "2022-03-11T05:18:28.232526Z",
     "iopub.status.busy": "2022-03-11T05:18:28.231886Z",
     "iopub.status.idle": "2022-03-11T05:18:28.234539Z",
     "shell.execute_reply": "2022-03-11T05:18:28.234932Z",
     "shell.execute_reply.started": "2022-03-11T05:07:07.751727Z"
    },
    "papermill": {
     "duration": 0.116049,
     "end_time": "2022-03-11T05:18:28.235067",
     "exception": false,
     "start_time": "2022-03-11T05:18:28.119018",
     "status": "completed"
    },
    "tags": []
   },
   "outputs": [
    {
     "data": {
      "text/plain": [
       "0.9018952953557571"
      ]
     },
     "execution_count": 151,
     "metadata": {},
     "output_type": "execute_result"
    }
   ],
   "source": [
    "metrics.r2_score(y_test, y_pred_xgboost)"
   ]
  },
  {
   "cell_type": "markdown",
   "id": "beda226b",
   "metadata": {
    "papermill": {
     "duration": 0.110513,
     "end_time": "2022-03-11T05:18:28.453721",
     "exception": false,
     "start_time": "2022-03-11T05:18:28.343208",
     "status": "completed"
    },
    "tags": []
   },
   "source": [
    "RandomForest outperformed the  XGBoost on all three metrics. \n",
    "\n",
    "But  XGboost can be optimized in order to provide better result the XGBoost model for the hyperparameter tuning."
   ]
  },
  {
   "cell_type": "markdown",
   "id": "531c91f6",
   "metadata": {
    "papermill": {
     "duration": 0.108132,
     "end_time": "2022-03-11T05:18:28.674013",
     "exception": false,
     "start_time": "2022-03-11T05:18:28.565881",
     "status": "completed"
    },
    "tags": []
   },
   "source": [
    "# Hyperparameter Tuning\n",
    "\n",
    "\n",
    "* Choose following method for hyperparameter tuning\n",
    "    1. **RandomizedSearchCV**: Faster when there are many combinations of hyperparameter\n",
    "    2. **GridSearchCV**: Tries all combinations\n",
    "* Assign hyperparameters in form of dictionary\n",
    "* Fit the model\n",
    "* Check best paramters and best score"
   ]
  },
  {
   "cell_type": "code",
   "execution_count": 152,
   "id": "fe19b905",
   "metadata": {
    "execution": {
     "iopub.execute_input": "2022-03-11T05:18:28.895978Z",
     "iopub.status.busy": "2022-03-11T05:18:28.895125Z",
     "iopub.status.idle": "2022-03-11T05:18:28.897410Z",
     "shell.execute_reply": "2022-03-11T05:18:28.896905Z",
     "shell.execute_reply.started": "2022-03-11T05:09:24.108227Z"
    },
    "papermill": {
     "duration": 0.115423,
     "end_time": "2022-03-11T05:18:28.897521",
     "exception": false,
     "start_time": "2022-03-11T05:18:28.782098",
     "status": "completed"
    },
    "tags": []
   },
   "outputs": [],
   "source": [
    "from sklearn.model_selection import RandomizedSearchCV"
   ]
  },
  {
   "cell_type": "code",
   "execution_count": 156,
   "id": "b385db09",
   "metadata": {
    "execution": {
     "iopub.execute_input": "2022-03-11T05:18:29.119346Z",
     "iopub.status.busy": "2022-03-11T05:18:29.118542Z",
     "iopub.status.idle": "2022-03-11T05:18:29.120980Z",
     "shell.execute_reply": "2022-03-11T05:18:29.120546Z",
     "shell.execute_reply.started": "2022-03-11T05:09:24.397891Z"
    },
    "papermill": {
     "duration": 0.114878,
     "end_time": "2022-03-11T05:18:29.121087",
     "exception": false,
     "start_time": "2022-03-11T05:18:29.006209",
     "status": "completed"
    },
    "tags": []
   },
   "outputs": [],
   "source": [
    "# Create the random grid for the XGBoost model\n",
    "\n",
    "params = {\n",
    " \"learning_rate\" : [0.05,0.10],#,0.15,0.20,0.25,0.30\n",
    " \"max_depth\" : [ 3, 4],#, 6, 8, 10, 12, 15\n",
    " \"min_child_weight\" : [ 1, 3],#, 5, 7 \n",
    " \"gamma\": [ 0.0, 0.4],#, 0.2 , 0.3, 0.1 \n",
    " \"colsample_bytree\" : [ 0.3, 0.4]#, 0.5 , 0.7 \n",
    "}"
   ]
  },
  {
   "cell_type": "code",
   "execution_count": 154,
   "id": "b57bf6ef",
   "metadata": {
    "execution": {
     "iopub.execute_input": "2022-03-11T05:18:29.341264Z",
     "iopub.status.busy": "2022-03-11T05:18:29.340613Z",
     "iopub.status.idle": "2022-03-11T05:18:29.342926Z",
     "shell.execute_reply": "2022-03-11T05:18:29.343386Z",
     "shell.execute_reply.started": "2022-03-11T05:09:24.990880Z"
    },
    "papermill": {
     "duration": 0.114441,
     "end_time": "2022-03-11T05:18:29.343515",
     "exception": false,
     "start_time": "2022-03-11T05:18:29.229074",
     "status": "completed"
    },
    "tags": []
   },
   "outputs": [],
   "source": [
    "# Random search of parameters, using 5 fold cross validation, \n",
    "# search across 100 different combinations\n",
    "xgb_model_tuned = RandomizedSearchCV(estimator = xgboost_model, param_distributions = params, scoring='neg_mean_squared_error', n_iter = 50, cv = 5, verbose=2, random_state=42, n_jobs = 1)"
   ]
  },
  {
   "cell_type": "code",
   "execution_count": 155,
   "id": "cbecdb95",
   "metadata": {
    "_kg_hide-output": true,
    "execution": {
     "iopub.execute_input": "2022-03-11T05:18:29.566966Z",
     "iopub.status.busy": "2022-03-11T05:18:29.566168Z",
     "iopub.status.idle": "2022-03-11T05:19:02.825880Z",
     "shell.execute_reply": "2022-03-11T05:19:02.825136Z"
    },
    "papermill": {
     "duration": 33.37333,
     "end_time": "2022-03-11T05:19:02.826035",
     "exception": false,
     "start_time": "2022-03-11T05:18:29.452705",
     "status": "completed"
    },
    "tags": []
   },
   "outputs": [
    {
     "name": "stdout",
     "output_type": "stream",
     "text": [
      "Fitting 5 folds for each of 48 candidates, totalling 240 fits\n",
      "[CV] END colsample_bytree=0.3, gamma=0.0, learning_rate=0.05, max_depth=3, min_child_weight=1; total time=  11.8s\n",
      "[CV] END colsample_bytree=0.3, gamma=0.0, learning_rate=0.05, max_depth=3, min_child_weight=1; total time=  12.5s\n",
      "[CV] END colsample_bytree=0.3, gamma=0.0, learning_rate=0.05, max_depth=3, min_child_weight=1; total time=  13.2s\n",
      "[CV] END colsample_bytree=0.3, gamma=0.0, learning_rate=0.05, max_depth=3, min_child_weight=1; total time=  12.3s\n",
      "[CV] END colsample_bytree=0.3, gamma=0.0, learning_rate=0.05, max_depth=3, min_child_weight=1; total time=  12.0s\n",
      "[CV] END colsample_bytree=0.3, gamma=0.0, learning_rate=0.05, max_depth=3, min_child_weight=3; total time=  11.7s\n",
      "[CV] END colsample_bytree=0.3, gamma=0.0, learning_rate=0.05, max_depth=3, min_child_weight=3; total time=  13.4s\n",
      "[CV] END colsample_bytree=0.3, gamma=0.0, learning_rate=0.05, max_depth=3, min_child_weight=3; total time=  11.3s\n",
      "[CV] END colsample_bytree=0.3, gamma=0.0, learning_rate=0.05, max_depth=3, min_child_weight=3; total time=  10.1s\n",
      "[CV] END colsample_bytree=0.3, gamma=0.0, learning_rate=0.05, max_depth=3, min_child_weight=3; total time=  11.4s\n",
      "[CV] END colsample_bytree=0.3, gamma=0.0, learning_rate=0.05, max_depth=4, min_child_weight=1; total time=  14.7s\n",
      "[CV] END colsample_bytree=0.3, gamma=0.0, learning_rate=0.05, max_depth=4, min_child_weight=1; total time=  13.8s\n",
      "[CV] END colsample_bytree=0.3, gamma=0.0, learning_rate=0.05, max_depth=4, min_child_weight=1; total time=  12.3s\n",
      "[CV] END colsample_bytree=0.3, gamma=0.0, learning_rate=0.05, max_depth=4, min_child_weight=1; total time=  12.7s\n",
      "[CV] END colsample_bytree=0.3, gamma=0.0, learning_rate=0.05, max_depth=4, min_child_weight=1; total time=  12.7s\n",
      "[CV] END colsample_bytree=0.3, gamma=0.0, learning_rate=0.05, max_depth=4, min_child_weight=3; total time=  12.8s\n",
      "[CV] END colsample_bytree=0.3, gamma=0.0, learning_rate=0.05, max_depth=4, min_child_weight=3; total time=  13.1s\n",
      "[CV] END colsample_bytree=0.3, gamma=0.0, learning_rate=0.05, max_depth=4, min_child_weight=3; total time=  13.1s\n",
      "[CV] END colsample_bytree=0.3, gamma=0.0, learning_rate=0.05, max_depth=4, min_child_weight=3; total time=  12.9s\n",
      "[CV] END colsample_bytree=0.3, gamma=0.0, learning_rate=0.05, max_depth=4, min_child_weight=3; total time=  12.5s\n",
      "[CV] END colsample_bytree=0.3, gamma=0.0, learning_rate=0.05, max_depth=5, min_child_weight=1; total time=  16.2s\n"
     ]
    },
    {
     "ename": "KeyboardInterrupt",
     "evalue": "",
     "output_type": "error",
     "traceback": [
      "\u001b[0;31m---------------------------------------------------------------------------\u001b[0m",
      "\u001b[0;31mKeyboardInterrupt\u001b[0m                         Traceback (most recent call last)",
      "\u001b[0;32m<ipython-input-155-8679927ee1cb>\u001b[0m in \u001b[0;36m<module>\u001b[0;34m\u001b[0m\n\u001b[0;32m----> 1\u001b[0;31m \u001b[0mxgb_model_tuned\u001b[0m\u001b[0;34m.\u001b[0m\u001b[0mfit\u001b[0m\u001b[0;34m(\u001b[0m\u001b[0mX_train\u001b[0m\u001b[0;34m,\u001b[0m\u001b[0my_train\u001b[0m\u001b[0;34m)\u001b[0m\u001b[0;34m\u001b[0m\u001b[0;34m\u001b[0m\u001b[0m\n\u001b[0m",
      "\u001b[0;32m~/opt/anaconda3/lib/python3.8/site-packages/sklearn/utils/validation.py\u001b[0m in \u001b[0;36minner_f\u001b[0;34m(*args, **kwargs)\u001b[0m\n\u001b[1;32m     61\u001b[0m             \u001b[0mextra_args\u001b[0m \u001b[0;34m=\u001b[0m \u001b[0mlen\u001b[0m\u001b[0;34m(\u001b[0m\u001b[0margs\u001b[0m\u001b[0;34m)\u001b[0m \u001b[0;34m-\u001b[0m \u001b[0mlen\u001b[0m\u001b[0;34m(\u001b[0m\u001b[0mall_args\u001b[0m\u001b[0;34m)\u001b[0m\u001b[0;34m\u001b[0m\u001b[0;34m\u001b[0m\u001b[0m\n\u001b[1;32m     62\u001b[0m             \u001b[0;32mif\u001b[0m \u001b[0mextra_args\u001b[0m \u001b[0;34m<=\u001b[0m \u001b[0;36m0\u001b[0m\u001b[0;34m:\u001b[0m\u001b[0;34m\u001b[0m\u001b[0;34m\u001b[0m\u001b[0m\n\u001b[0;32m---> 63\u001b[0;31m                 \u001b[0;32mreturn\u001b[0m \u001b[0mf\u001b[0m\u001b[0;34m(\u001b[0m\u001b[0;34m*\u001b[0m\u001b[0margs\u001b[0m\u001b[0;34m,\u001b[0m \u001b[0;34m**\u001b[0m\u001b[0mkwargs\u001b[0m\u001b[0;34m)\u001b[0m\u001b[0;34m\u001b[0m\u001b[0;34m\u001b[0m\u001b[0m\n\u001b[0m\u001b[1;32m     64\u001b[0m \u001b[0;34m\u001b[0m\u001b[0m\n\u001b[1;32m     65\u001b[0m             \u001b[0;31m# extra_args > 0\u001b[0m\u001b[0;34m\u001b[0m\u001b[0;34m\u001b[0m\u001b[0;34m\u001b[0m\u001b[0m\n",
      "\u001b[0;32m~/opt/anaconda3/lib/python3.8/site-packages/sklearn/model_selection/_search.py\u001b[0m in \u001b[0;36mfit\u001b[0;34m(self, X, y, groups, **fit_params)\u001b[0m\n\u001b[1;32m    839\u001b[0m                 \u001b[0;32mreturn\u001b[0m \u001b[0mresults\u001b[0m\u001b[0;34m\u001b[0m\u001b[0;34m\u001b[0m\u001b[0m\n\u001b[1;32m    840\u001b[0m \u001b[0;34m\u001b[0m\u001b[0m\n\u001b[0;32m--> 841\u001b[0;31m             \u001b[0mself\u001b[0m\u001b[0;34m.\u001b[0m\u001b[0m_run_search\u001b[0m\u001b[0;34m(\u001b[0m\u001b[0mevaluate_candidates\u001b[0m\u001b[0;34m)\u001b[0m\u001b[0;34m\u001b[0m\u001b[0;34m\u001b[0m\u001b[0m\n\u001b[0m\u001b[1;32m    842\u001b[0m \u001b[0;34m\u001b[0m\u001b[0m\n\u001b[1;32m    843\u001b[0m             \u001b[0;31m# multimetric is determined here because in the case of a callable\u001b[0m\u001b[0;34m\u001b[0m\u001b[0;34m\u001b[0m\u001b[0;34m\u001b[0m\u001b[0m\n",
      "\u001b[0;32m~/opt/anaconda3/lib/python3.8/site-packages/sklearn/model_selection/_search.py\u001b[0m in \u001b[0;36m_run_search\u001b[0;34m(self, evaluate_candidates)\u001b[0m\n\u001b[1;32m   1617\u001b[0m     \u001b[0;32mdef\u001b[0m \u001b[0m_run_search\u001b[0m\u001b[0;34m(\u001b[0m\u001b[0mself\u001b[0m\u001b[0;34m,\u001b[0m \u001b[0mevaluate_candidates\u001b[0m\u001b[0;34m)\u001b[0m\u001b[0;34m:\u001b[0m\u001b[0;34m\u001b[0m\u001b[0;34m\u001b[0m\u001b[0m\n\u001b[1;32m   1618\u001b[0m         \u001b[0;34m\"\"\"Search n_iter candidates from param_distributions\"\"\"\u001b[0m\u001b[0;34m\u001b[0m\u001b[0;34m\u001b[0m\u001b[0m\n\u001b[0;32m-> 1619\u001b[0;31m         evaluate_candidates(ParameterSampler(\n\u001b[0m\u001b[1;32m   1620\u001b[0m             \u001b[0mself\u001b[0m\u001b[0;34m.\u001b[0m\u001b[0mparam_distributions\u001b[0m\u001b[0;34m,\u001b[0m \u001b[0mself\u001b[0m\u001b[0;34m.\u001b[0m\u001b[0mn_iter\u001b[0m\u001b[0;34m,\u001b[0m\u001b[0;34m\u001b[0m\u001b[0;34m\u001b[0m\u001b[0m\n\u001b[1;32m   1621\u001b[0m             random_state=self.random_state))\n",
      "\u001b[0;32m~/opt/anaconda3/lib/python3.8/site-packages/sklearn/model_selection/_search.py\u001b[0m in \u001b[0;36mevaluate_candidates\u001b[0;34m(candidate_params, cv, more_results)\u001b[0m\n\u001b[1;32m    793\u001b[0m                               n_splits, n_candidates, n_candidates * n_splits))\n\u001b[1;32m    794\u001b[0m \u001b[0;34m\u001b[0m\u001b[0m\n\u001b[0;32m--> 795\u001b[0;31m                 out = parallel(delayed(_fit_and_score)(clone(base_estimator),\n\u001b[0m\u001b[1;32m    796\u001b[0m                                                        \u001b[0mX\u001b[0m\u001b[0;34m,\u001b[0m \u001b[0my\u001b[0m\u001b[0;34m,\u001b[0m\u001b[0;34m\u001b[0m\u001b[0;34m\u001b[0m\u001b[0m\n\u001b[1;32m    797\u001b[0m                                                        \u001b[0mtrain\u001b[0m\u001b[0;34m=\u001b[0m\u001b[0mtrain\u001b[0m\u001b[0;34m,\u001b[0m \u001b[0mtest\u001b[0m\u001b[0;34m=\u001b[0m\u001b[0mtest\u001b[0m\u001b[0;34m,\u001b[0m\u001b[0;34m\u001b[0m\u001b[0;34m\u001b[0m\u001b[0m\n",
      "\u001b[0;32m~/opt/anaconda3/lib/python3.8/site-packages/joblib/parallel.py\u001b[0m in \u001b[0;36m__call__\u001b[0;34m(self, iterable)\u001b[0m\n\u001b[1;32m   1042\u001b[0m                 \u001b[0mself\u001b[0m\u001b[0;34m.\u001b[0m\u001b[0m_iterating\u001b[0m \u001b[0;34m=\u001b[0m \u001b[0mself\u001b[0m\u001b[0;34m.\u001b[0m\u001b[0m_original_iterator\u001b[0m \u001b[0;32mis\u001b[0m \u001b[0;32mnot\u001b[0m \u001b[0;32mNone\u001b[0m\u001b[0;34m\u001b[0m\u001b[0;34m\u001b[0m\u001b[0m\n\u001b[1;32m   1043\u001b[0m \u001b[0;34m\u001b[0m\u001b[0m\n\u001b[0;32m-> 1044\u001b[0;31m             \u001b[0;32mwhile\u001b[0m \u001b[0mself\u001b[0m\u001b[0;34m.\u001b[0m\u001b[0mdispatch_one_batch\u001b[0m\u001b[0;34m(\u001b[0m\u001b[0miterator\u001b[0m\u001b[0;34m)\u001b[0m\u001b[0;34m:\u001b[0m\u001b[0;34m\u001b[0m\u001b[0;34m\u001b[0m\u001b[0m\n\u001b[0m\u001b[1;32m   1045\u001b[0m                 \u001b[0;32mpass\u001b[0m\u001b[0;34m\u001b[0m\u001b[0;34m\u001b[0m\u001b[0m\n\u001b[1;32m   1046\u001b[0m \u001b[0;34m\u001b[0m\u001b[0m\n",
      "\u001b[0;32m~/opt/anaconda3/lib/python3.8/site-packages/joblib/parallel.py\u001b[0m in \u001b[0;36mdispatch_one_batch\u001b[0;34m(self, iterator)\u001b[0m\n\u001b[1;32m    857\u001b[0m                 \u001b[0;32mreturn\u001b[0m \u001b[0;32mFalse\u001b[0m\u001b[0;34m\u001b[0m\u001b[0;34m\u001b[0m\u001b[0m\n\u001b[1;32m    858\u001b[0m             \u001b[0;32melse\u001b[0m\u001b[0;34m:\u001b[0m\u001b[0;34m\u001b[0m\u001b[0;34m\u001b[0m\u001b[0m\n\u001b[0;32m--> 859\u001b[0;31m                 \u001b[0mself\u001b[0m\u001b[0;34m.\u001b[0m\u001b[0m_dispatch\u001b[0m\u001b[0;34m(\u001b[0m\u001b[0mtasks\u001b[0m\u001b[0;34m)\u001b[0m\u001b[0;34m\u001b[0m\u001b[0;34m\u001b[0m\u001b[0m\n\u001b[0m\u001b[1;32m    860\u001b[0m                 \u001b[0;32mreturn\u001b[0m \u001b[0;32mTrue\u001b[0m\u001b[0;34m\u001b[0m\u001b[0;34m\u001b[0m\u001b[0m\n\u001b[1;32m    861\u001b[0m \u001b[0;34m\u001b[0m\u001b[0m\n",
      "\u001b[0;32m~/opt/anaconda3/lib/python3.8/site-packages/joblib/parallel.py\u001b[0m in \u001b[0;36m_dispatch\u001b[0;34m(self, batch)\u001b[0m\n\u001b[1;32m    775\u001b[0m         \u001b[0;32mwith\u001b[0m \u001b[0mself\u001b[0m\u001b[0;34m.\u001b[0m\u001b[0m_lock\u001b[0m\u001b[0;34m:\u001b[0m\u001b[0;34m\u001b[0m\u001b[0;34m\u001b[0m\u001b[0m\n\u001b[1;32m    776\u001b[0m             \u001b[0mjob_idx\u001b[0m \u001b[0;34m=\u001b[0m \u001b[0mlen\u001b[0m\u001b[0;34m(\u001b[0m\u001b[0mself\u001b[0m\u001b[0;34m.\u001b[0m\u001b[0m_jobs\u001b[0m\u001b[0;34m)\u001b[0m\u001b[0;34m\u001b[0m\u001b[0;34m\u001b[0m\u001b[0m\n\u001b[0;32m--> 777\u001b[0;31m             \u001b[0mjob\u001b[0m \u001b[0;34m=\u001b[0m \u001b[0mself\u001b[0m\u001b[0;34m.\u001b[0m\u001b[0m_backend\u001b[0m\u001b[0;34m.\u001b[0m\u001b[0mapply_async\u001b[0m\u001b[0;34m(\u001b[0m\u001b[0mbatch\u001b[0m\u001b[0;34m,\u001b[0m \u001b[0mcallback\u001b[0m\u001b[0;34m=\u001b[0m\u001b[0mcb\u001b[0m\u001b[0;34m)\u001b[0m\u001b[0;34m\u001b[0m\u001b[0;34m\u001b[0m\u001b[0m\n\u001b[0m\u001b[1;32m    778\u001b[0m             \u001b[0;31m# A job can complete so quickly than its callback is\u001b[0m\u001b[0;34m\u001b[0m\u001b[0;34m\u001b[0m\u001b[0;34m\u001b[0m\u001b[0m\n\u001b[1;32m    779\u001b[0m             \u001b[0;31m# called before we get here, causing self._jobs to\u001b[0m\u001b[0;34m\u001b[0m\u001b[0;34m\u001b[0m\u001b[0;34m\u001b[0m\u001b[0m\n",
      "\u001b[0;32m~/opt/anaconda3/lib/python3.8/site-packages/joblib/_parallel_backends.py\u001b[0m in \u001b[0;36mapply_async\u001b[0;34m(self, func, callback)\u001b[0m\n\u001b[1;32m    206\u001b[0m     \u001b[0;32mdef\u001b[0m \u001b[0mapply_async\u001b[0m\u001b[0;34m(\u001b[0m\u001b[0mself\u001b[0m\u001b[0;34m,\u001b[0m \u001b[0mfunc\u001b[0m\u001b[0;34m,\u001b[0m \u001b[0mcallback\u001b[0m\u001b[0;34m=\u001b[0m\u001b[0;32mNone\u001b[0m\u001b[0;34m)\u001b[0m\u001b[0;34m:\u001b[0m\u001b[0;34m\u001b[0m\u001b[0;34m\u001b[0m\u001b[0m\n\u001b[1;32m    207\u001b[0m         \u001b[0;34m\"\"\"Schedule a func to be run\"\"\"\u001b[0m\u001b[0;34m\u001b[0m\u001b[0;34m\u001b[0m\u001b[0m\n\u001b[0;32m--> 208\u001b[0;31m         \u001b[0mresult\u001b[0m \u001b[0;34m=\u001b[0m \u001b[0mImmediateResult\u001b[0m\u001b[0;34m(\u001b[0m\u001b[0mfunc\u001b[0m\u001b[0;34m)\u001b[0m\u001b[0;34m\u001b[0m\u001b[0;34m\u001b[0m\u001b[0m\n\u001b[0m\u001b[1;32m    209\u001b[0m         \u001b[0;32mif\u001b[0m \u001b[0mcallback\u001b[0m\u001b[0;34m:\u001b[0m\u001b[0;34m\u001b[0m\u001b[0;34m\u001b[0m\u001b[0m\n\u001b[1;32m    210\u001b[0m             \u001b[0mcallback\u001b[0m\u001b[0;34m(\u001b[0m\u001b[0mresult\u001b[0m\u001b[0;34m)\u001b[0m\u001b[0;34m\u001b[0m\u001b[0;34m\u001b[0m\u001b[0m\n",
      "\u001b[0;32m~/opt/anaconda3/lib/python3.8/site-packages/joblib/_parallel_backends.py\u001b[0m in \u001b[0;36m__init__\u001b[0;34m(self, batch)\u001b[0m\n\u001b[1;32m    570\u001b[0m         \u001b[0;31m# Don't delay the application, to avoid keeping the input\u001b[0m\u001b[0;34m\u001b[0m\u001b[0;34m\u001b[0m\u001b[0;34m\u001b[0m\u001b[0m\n\u001b[1;32m    571\u001b[0m         \u001b[0;31m# arguments in memory\u001b[0m\u001b[0;34m\u001b[0m\u001b[0;34m\u001b[0m\u001b[0;34m\u001b[0m\u001b[0m\n\u001b[0;32m--> 572\u001b[0;31m         \u001b[0mself\u001b[0m\u001b[0;34m.\u001b[0m\u001b[0mresults\u001b[0m \u001b[0;34m=\u001b[0m \u001b[0mbatch\u001b[0m\u001b[0;34m(\u001b[0m\u001b[0;34m)\u001b[0m\u001b[0;34m\u001b[0m\u001b[0;34m\u001b[0m\u001b[0m\n\u001b[0m\u001b[1;32m    573\u001b[0m \u001b[0;34m\u001b[0m\u001b[0m\n\u001b[1;32m    574\u001b[0m     \u001b[0;32mdef\u001b[0m \u001b[0mget\u001b[0m\u001b[0;34m(\u001b[0m\u001b[0mself\u001b[0m\u001b[0;34m)\u001b[0m\u001b[0;34m:\u001b[0m\u001b[0;34m\u001b[0m\u001b[0;34m\u001b[0m\u001b[0m\n",
      "\u001b[0;32m~/opt/anaconda3/lib/python3.8/site-packages/joblib/parallel.py\u001b[0m in \u001b[0;36m__call__\u001b[0;34m(self)\u001b[0m\n\u001b[1;32m    260\u001b[0m         \u001b[0;31m# change the default number of processes to -1\u001b[0m\u001b[0;34m\u001b[0m\u001b[0;34m\u001b[0m\u001b[0;34m\u001b[0m\u001b[0m\n\u001b[1;32m    261\u001b[0m         \u001b[0;32mwith\u001b[0m \u001b[0mparallel_backend\u001b[0m\u001b[0;34m(\u001b[0m\u001b[0mself\u001b[0m\u001b[0;34m.\u001b[0m\u001b[0m_backend\u001b[0m\u001b[0;34m,\u001b[0m \u001b[0mn_jobs\u001b[0m\u001b[0;34m=\u001b[0m\u001b[0mself\u001b[0m\u001b[0;34m.\u001b[0m\u001b[0m_n_jobs\u001b[0m\u001b[0;34m)\u001b[0m\u001b[0;34m:\u001b[0m\u001b[0;34m\u001b[0m\u001b[0;34m\u001b[0m\u001b[0m\n\u001b[0;32m--> 262\u001b[0;31m             return [func(*args, **kwargs)\n\u001b[0m\u001b[1;32m    263\u001b[0m                     for func, args, kwargs in self.items]\n\u001b[1;32m    264\u001b[0m \u001b[0;34m\u001b[0m\u001b[0m\n",
      "\u001b[0;32m~/opt/anaconda3/lib/python3.8/site-packages/joblib/parallel.py\u001b[0m in \u001b[0;36m<listcomp>\u001b[0;34m(.0)\u001b[0m\n\u001b[1;32m    260\u001b[0m         \u001b[0;31m# change the default number of processes to -1\u001b[0m\u001b[0;34m\u001b[0m\u001b[0;34m\u001b[0m\u001b[0;34m\u001b[0m\u001b[0m\n\u001b[1;32m    261\u001b[0m         \u001b[0;32mwith\u001b[0m \u001b[0mparallel_backend\u001b[0m\u001b[0;34m(\u001b[0m\u001b[0mself\u001b[0m\u001b[0;34m.\u001b[0m\u001b[0m_backend\u001b[0m\u001b[0;34m,\u001b[0m \u001b[0mn_jobs\u001b[0m\u001b[0;34m=\u001b[0m\u001b[0mself\u001b[0m\u001b[0;34m.\u001b[0m\u001b[0m_n_jobs\u001b[0m\u001b[0;34m)\u001b[0m\u001b[0;34m:\u001b[0m\u001b[0;34m\u001b[0m\u001b[0;34m\u001b[0m\u001b[0m\n\u001b[0;32m--> 262\u001b[0;31m             return [func(*args, **kwargs)\n\u001b[0m\u001b[1;32m    263\u001b[0m                     for func, args, kwargs in self.items]\n\u001b[1;32m    264\u001b[0m \u001b[0;34m\u001b[0m\u001b[0m\n",
      "\u001b[0;32m~/opt/anaconda3/lib/python3.8/site-packages/sklearn/utils/fixes.py\u001b[0m in \u001b[0;36m__call__\u001b[0;34m(self, *args, **kwargs)\u001b[0m\n\u001b[1;32m    220\u001b[0m     \u001b[0;32mdef\u001b[0m \u001b[0m__call__\u001b[0m\u001b[0;34m(\u001b[0m\u001b[0mself\u001b[0m\u001b[0;34m,\u001b[0m \u001b[0;34m*\u001b[0m\u001b[0margs\u001b[0m\u001b[0;34m,\u001b[0m \u001b[0;34m**\u001b[0m\u001b[0mkwargs\u001b[0m\u001b[0;34m)\u001b[0m\u001b[0;34m:\u001b[0m\u001b[0;34m\u001b[0m\u001b[0;34m\u001b[0m\u001b[0m\n\u001b[1;32m    221\u001b[0m         \u001b[0;32mwith\u001b[0m \u001b[0mconfig_context\u001b[0m\u001b[0;34m(\u001b[0m\u001b[0;34m**\u001b[0m\u001b[0mself\u001b[0m\u001b[0;34m.\u001b[0m\u001b[0mconfig\u001b[0m\u001b[0;34m)\u001b[0m\u001b[0;34m:\u001b[0m\u001b[0;34m\u001b[0m\u001b[0;34m\u001b[0m\u001b[0m\n\u001b[0;32m--> 222\u001b[0;31m             \u001b[0;32mreturn\u001b[0m \u001b[0mself\u001b[0m\u001b[0;34m.\u001b[0m\u001b[0mfunction\u001b[0m\u001b[0;34m(\u001b[0m\u001b[0;34m*\u001b[0m\u001b[0margs\u001b[0m\u001b[0;34m,\u001b[0m \u001b[0;34m**\u001b[0m\u001b[0mkwargs\u001b[0m\u001b[0;34m)\u001b[0m\u001b[0;34m\u001b[0m\u001b[0;34m\u001b[0m\u001b[0m\n\u001b[0m",
      "\u001b[0;32m~/opt/anaconda3/lib/python3.8/site-packages/sklearn/model_selection/_validation.py\u001b[0m in \u001b[0;36m_fit_and_score\u001b[0;34m(estimator, X, y, scorer, train, test, verbose, parameters, fit_params, return_train_score, return_parameters, return_n_test_samples, return_times, return_estimator, split_progress, candidate_progress, error_score)\u001b[0m\n\u001b[1;32m    591\u001b[0m             \u001b[0mestimator\u001b[0m\u001b[0;34m.\u001b[0m\u001b[0mfit\u001b[0m\u001b[0;34m(\u001b[0m\u001b[0mX_train\u001b[0m\u001b[0;34m,\u001b[0m \u001b[0;34m**\u001b[0m\u001b[0mfit_params\u001b[0m\u001b[0;34m)\u001b[0m\u001b[0;34m\u001b[0m\u001b[0;34m\u001b[0m\u001b[0m\n\u001b[1;32m    592\u001b[0m         \u001b[0;32melse\u001b[0m\u001b[0;34m:\u001b[0m\u001b[0;34m\u001b[0m\u001b[0;34m\u001b[0m\u001b[0m\n\u001b[0;32m--> 593\u001b[0;31m             \u001b[0mestimator\u001b[0m\u001b[0;34m.\u001b[0m\u001b[0mfit\u001b[0m\u001b[0;34m(\u001b[0m\u001b[0mX_train\u001b[0m\u001b[0;34m,\u001b[0m \u001b[0my_train\u001b[0m\u001b[0;34m,\u001b[0m \u001b[0;34m**\u001b[0m\u001b[0mfit_params\u001b[0m\u001b[0;34m)\u001b[0m\u001b[0;34m\u001b[0m\u001b[0;34m\u001b[0m\u001b[0m\n\u001b[0m\u001b[1;32m    594\u001b[0m \u001b[0;34m\u001b[0m\u001b[0m\n\u001b[1;32m    595\u001b[0m     \u001b[0;32mexcept\u001b[0m \u001b[0mException\u001b[0m \u001b[0;32mas\u001b[0m \u001b[0me\u001b[0m\u001b[0;34m:\u001b[0m\u001b[0;34m\u001b[0m\u001b[0;34m\u001b[0m\u001b[0m\n",
      "\u001b[0;32m~/opt/anaconda3/lib/python3.8/site-packages/xgboost/core.py\u001b[0m in \u001b[0;36minner_f\u001b[0;34m(*args, **kwargs)\u001b[0m\n\u001b[1;32m    434\u001b[0m         \u001b[0;32mfor\u001b[0m \u001b[0mk\u001b[0m\u001b[0;34m,\u001b[0m \u001b[0marg\u001b[0m \u001b[0;32min\u001b[0m \u001b[0mzip\u001b[0m\u001b[0;34m(\u001b[0m\u001b[0msig\u001b[0m\u001b[0;34m.\u001b[0m\u001b[0mparameters\u001b[0m\u001b[0;34m,\u001b[0m \u001b[0margs\u001b[0m\u001b[0;34m)\u001b[0m\u001b[0;34m:\u001b[0m\u001b[0;34m\u001b[0m\u001b[0;34m\u001b[0m\u001b[0m\n\u001b[1;32m    435\u001b[0m             \u001b[0mkwargs\u001b[0m\u001b[0;34m[\u001b[0m\u001b[0mk\u001b[0m\u001b[0;34m]\u001b[0m \u001b[0;34m=\u001b[0m \u001b[0marg\u001b[0m\u001b[0;34m\u001b[0m\u001b[0;34m\u001b[0m\u001b[0m\n\u001b[0;32m--> 436\u001b[0;31m         \u001b[0;32mreturn\u001b[0m \u001b[0mf\u001b[0m\u001b[0;34m(\u001b[0m\u001b[0;34m**\u001b[0m\u001b[0mkwargs\u001b[0m\u001b[0;34m)\u001b[0m\u001b[0;34m\u001b[0m\u001b[0;34m\u001b[0m\u001b[0m\n\u001b[0m\u001b[1;32m    437\u001b[0m \u001b[0;34m\u001b[0m\u001b[0m\n\u001b[1;32m    438\u001b[0m     \u001b[0;32mreturn\u001b[0m \u001b[0minner_f\u001b[0m\u001b[0;34m\u001b[0m\u001b[0;34m\u001b[0m\u001b[0m\n",
      "\u001b[0;32m~/opt/anaconda3/lib/python3.8/site-packages/xgboost/sklearn.py\u001b[0m in \u001b[0;36mfit\u001b[0;34m(self, X, y, sample_weight, base_margin, eval_set, eval_metric, early_stopping_rounds, verbose, xgb_model, sample_weight_eval_set, base_margin_eval_set, feature_weights, callbacks)\u001b[0m\n\u001b[1;32m    734\u001b[0m \u001b[0;34m\u001b[0m\u001b[0m\n\u001b[1;32m    735\u001b[0m         \u001b[0mmodel\u001b[0m\u001b[0;34m,\u001b[0m \u001b[0mfeval\u001b[0m\u001b[0;34m,\u001b[0m \u001b[0mparams\u001b[0m \u001b[0;34m=\u001b[0m \u001b[0mself\u001b[0m\u001b[0;34m.\u001b[0m\u001b[0m_configure_fit\u001b[0m\u001b[0;34m(\u001b[0m\u001b[0mxgb_model\u001b[0m\u001b[0;34m,\u001b[0m \u001b[0meval_metric\u001b[0m\u001b[0;34m,\u001b[0m \u001b[0mparams\u001b[0m\u001b[0;34m)\u001b[0m\u001b[0;34m\u001b[0m\u001b[0;34m\u001b[0m\u001b[0m\n\u001b[0;32m--> 736\u001b[0;31m         self._Booster = train(\n\u001b[0m\u001b[1;32m    737\u001b[0m             \u001b[0mparams\u001b[0m\u001b[0;34m,\u001b[0m\u001b[0;34m\u001b[0m\u001b[0;34m\u001b[0m\u001b[0m\n\u001b[1;32m    738\u001b[0m             \u001b[0mtrain_dmatrix\u001b[0m\u001b[0;34m,\u001b[0m\u001b[0;34m\u001b[0m\u001b[0;34m\u001b[0m\u001b[0m\n",
      "\u001b[0;32m~/opt/anaconda3/lib/python3.8/site-packages/xgboost/training.py\u001b[0m in \u001b[0;36mtrain\u001b[0;34m(params, dtrain, num_boost_round, evals, obj, feval, maximize, early_stopping_rounds, evals_result, verbose_eval, xgb_model, callbacks)\u001b[0m\n\u001b[1;32m    187\u001b[0m     \u001b[0mBooster\u001b[0m \u001b[0;34m:\u001b[0m \u001b[0ma\u001b[0m \u001b[0mtrained\u001b[0m \u001b[0mbooster\u001b[0m \u001b[0mmodel\u001b[0m\u001b[0;34m\u001b[0m\u001b[0;34m\u001b[0m\u001b[0m\n\u001b[1;32m    188\u001b[0m     \"\"\"\n\u001b[0;32m--> 189\u001b[0;31m     bst = _train_internal(params, dtrain,\n\u001b[0m\u001b[1;32m    190\u001b[0m                           \u001b[0mnum_boost_round\u001b[0m\u001b[0;34m=\u001b[0m\u001b[0mnum_boost_round\u001b[0m\u001b[0;34m,\u001b[0m\u001b[0;34m\u001b[0m\u001b[0;34m\u001b[0m\u001b[0m\n\u001b[1;32m    191\u001b[0m                           \u001b[0mevals\u001b[0m\u001b[0;34m=\u001b[0m\u001b[0mevals\u001b[0m\u001b[0;34m,\u001b[0m\u001b[0;34m\u001b[0m\u001b[0;34m\u001b[0m\u001b[0m\n",
      "\u001b[0;32m~/opt/anaconda3/lib/python3.8/site-packages/xgboost/training.py\u001b[0m in \u001b[0;36m_train_internal\u001b[0;34m(params, dtrain, num_boost_round, evals, obj, feval, xgb_model, callbacks, evals_result, maximize, verbose_eval, early_stopping_rounds)\u001b[0m\n\u001b[1;32m     79\u001b[0m         \u001b[0;32mif\u001b[0m \u001b[0mcallbacks\u001b[0m\u001b[0;34m.\u001b[0m\u001b[0mbefore_iteration\u001b[0m\u001b[0;34m(\u001b[0m\u001b[0mbst\u001b[0m\u001b[0;34m,\u001b[0m \u001b[0mi\u001b[0m\u001b[0;34m,\u001b[0m \u001b[0mdtrain\u001b[0m\u001b[0;34m,\u001b[0m \u001b[0mevals\u001b[0m\u001b[0;34m)\u001b[0m\u001b[0;34m:\u001b[0m\u001b[0;34m\u001b[0m\u001b[0;34m\u001b[0m\u001b[0m\n\u001b[1;32m     80\u001b[0m             \u001b[0;32mbreak\u001b[0m\u001b[0;34m\u001b[0m\u001b[0;34m\u001b[0m\u001b[0m\n\u001b[0;32m---> 81\u001b[0;31m         \u001b[0mbst\u001b[0m\u001b[0;34m.\u001b[0m\u001b[0mupdate\u001b[0m\u001b[0;34m(\u001b[0m\u001b[0mdtrain\u001b[0m\u001b[0;34m,\u001b[0m \u001b[0mi\u001b[0m\u001b[0;34m,\u001b[0m \u001b[0mobj\u001b[0m\u001b[0;34m)\u001b[0m\u001b[0;34m\u001b[0m\u001b[0;34m\u001b[0m\u001b[0m\n\u001b[0m\u001b[1;32m     82\u001b[0m         \u001b[0;32mif\u001b[0m \u001b[0mcallbacks\u001b[0m\u001b[0;34m.\u001b[0m\u001b[0mafter_iteration\u001b[0m\u001b[0;34m(\u001b[0m\u001b[0mbst\u001b[0m\u001b[0;34m,\u001b[0m \u001b[0mi\u001b[0m\u001b[0;34m,\u001b[0m \u001b[0mdtrain\u001b[0m\u001b[0;34m,\u001b[0m \u001b[0mevals\u001b[0m\u001b[0;34m)\u001b[0m\u001b[0;34m:\u001b[0m\u001b[0;34m\u001b[0m\u001b[0;34m\u001b[0m\u001b[0m\n\u001b[1;32m     83\u001b[0m             \u001b[0;32mbreak\u001b[0m\u001b[0;34m\u001b[0m\u001b[0;34m\u001b[0m\u001b[0m\n",
      "\u001b[0;32m~/opt/anaconda3/lib/python3.8/site-packages/xgboost/core.py\u001b[0m in \u001b[0;36mupdate\u001b[0;34m(self, dtrain, iteration, fobj)\u001b[0m\n\u001b[1;32m   1497\u001b[0m \u001b[0;34m\u001b[0m\u001b[0m\n\u001b[1;32m   1498\u001b[0m         \u001b[0;32mif\u001b[0m \u001b[0mfobj\u001b[0m \u001b[0;32mis\u001b[0m \u001b[0;32mNone\u001b[0m\u001b[0;34m:\u001b[0m\u001b[0;34m\u001b[0m\u001b[0;34m\u001b[0m\u001b[0m\n\u001b[0;32m-> 1499\u001b[0;31m             _check_call(_LIB.XGBoosterUpdateOneIter(self.handle,\n\u001b[0m\u001b[1;32m   1500\u001b[0m                                                     \u001b[0mctypes\u001b[0m\u001b[0;34m.\u001b[0m\u001b[0mc_int\u001b[0m\u001b[0;34m(\u001b[0m\u001b[0miteration\u001b[0m\u001b[0;34m)\u001b[0m\u001b[0;34m,\u001b[0m\u001b[0;34m\u001b[0m\u001b[0;34m\u001b[0m\u001b[0m\n\u001b[1;32m   1501\u001b[0m                                                     dtrain.handle))\n",
      "\u001b[0;31mKeyboardInterrupt\u001b[0m: "
     ]
    }
   ],
   "source": [
    "# I skip the deep optimization as to  give a simple result in a given time\n",
    "xgb_model_tuned.fit(X_train,y_train)"
   ]
  },
  {
   "cell_type": "code",
   "execution_count": 157,
   "id": "3ed219d6",
   "metadata": {},
   "outputs": [],
   "source": [
    "# Random search of parameters, using 5 fold cross validation, \n",
    "# search across 100 different combinations\n",
    "xgb_model_tuned = RandomizedSearchCV(estimator = xgboost_model, param_distributions = params, scoring='neg_mean_squared_error', n_iter = 5, cv = 2, verbose=2, random_state=42, n_jobs = 1)"
   ]
  },
  {
   "cell_type": "code",
   "execution_count": 158,
   "id": "6b9c5244",
   "metadata": {},
   "outputs": [
    {
     "name": "stdout",
     "output_type": "stream",
     "text": [
      "Fitting 2 folds for each of 5 candidates, totalling 10 fits\n",
      "[CV] END colsample_bytree=0.4, gamma=0.4, learning_rate=0.1, max_depth=3, min_child_weight=3; total time=   8.3s\n",
      "[CV] END colsample_bytree=0.4, gamma=0.4, learning_rate=0.1, max_depth=3, min_child_weight=3; total time=   9.4s\n",
      "[CV] END colsample_bytree=0.3, gamma=0.4, learning_rate=0.1, max_depth=4, min_child_weight=3; total time=  12.8s\n",
      "[CV] END colsample_bytree=0.3, gamma=0.4, learning_rate=0.1, max_depth=4, min_child_weight=3; total time=  10.2s\n",
      "[CV] END colsample_bytree=0.4, gamma=0.4, learning_rate=0.05, max_depth=3, min_child_weight=1; total time=   8.5s\n",
      "[CV] END colsample_bytree=0.4, gamma=0.4, learning_rate=0.05, max_depth=3, min_child_weight=1; total time=  11.5s\n",
      "[CV] END colsample_bytree=0.4, gamma=0.0, learning_rate=0.05, max_depth=3, min_child_weight=3; total time=   9.5s\n",
      "[CV] END colsample_bytree=0.4, gamma=0.0, learning_rate=0.05, max_depth=3, min_child_weight=3; total time=   9.3s\n",
      "[CV] END colsample_bytree=0.3, gamma=0.4, learning_rate=0.05, max_depth=3, min_child_weight=1; total time=   8.7s\n",
      "[CV] END colsample_bytree=0.3, gamma=0.4, learning_rate=0.05, max_depth=3, min_child_weight=1; total time=   7.5s\n"
     ]
    },
    {
     "data": {
      "text/plain": [
       "RandomizedSearchCV(cv=2,\n",
       "                   estimator=XGBRegressor(base_score=0.5, booster='gbtree',\n",
       "                                          colsample_bylevel=1,\n",
       "                                          colsample_bynode=1,\n",
       "                                          colsample_bytree=1, gamma=0,\n",
       "                                          gpu_id=-1, importance_type='gain',\n",
       "                                          interaction_constraints='',\n",
       "                                          learning_rate=0.300000012,\n",
       "                                          max_delta_step=0, max_depth=6,\n",
       "                                          min_child_weight=1, missing=nan,\n",
       "                                          monotone_constraints='()',\n",
       "                                          n_estimators=100, n_jobs=-1,\n",
       "                                          num_pa...ee=1, random_state=0,\n",
       "                                          reg_alpha=0, reg_lambda=1,\n",
       "                                          scale_pos_weight=1, subsample=1,\n",
       "                                          tree_method='exact',\n",
       "                                          validate_parameters=1,\n",
       "                                          verbosity=None),\n",
       "                   n_iter=5, n_jobs=1,\n",
       "                   param_distributions={'colsample_bytree': [0.3, 0.4],\n",
       "                                        'gamma': [0.0, 0.4],\n",
       "                                        'learning_rate': [0.05, 0.1],\n",
       "                                        'max_depth': [3, 4],\n",
       "                                        'min_child_weight': [1, 3]},\n",
       "                   random_state=42, scoring='neg_mean_squared_error',\n",
       "                   verbose=2)"
      ]
     },
     "execution_count": 158,
     "metadata": {},
     "output_type": "execute_result"
    }
   ],
   "source": [
    "xgb_model_tuned.fit(X_train,y_train)"
   ]
  },
  {
   "cell_type": "markdown",
   "id": "083c9b1d",
   "metadata": {
    "papermill": {
     "duration": 0.15047,
     "end_time": "2022-03-11T05:19:03.130971",
     "exception": false,
     "start_time": "2022-03-11T05:19:02.980501",
     "status": "completed"
    },
    "tags": []
   },
   "source": [
    "We can check the best parameters by accessing the following attribute:"
   ]
  },
  {
   "cell_type": "code",
   "execution_count": 160,
   "id": "405553ec",
   "metadata": {
    "execution": {
     "iopub.execute_input": "2022-03-11T05:19:03.434794Z",
     "iopub.status.busy": "2022-03-11T05:19:03.433852Z",
     "iopub.status.idle": "2022-03-11T05:19:03.437137Z",
     "shell.execute_reply": "2022-03-11T05:19:03.437556Z",
     "shell.execute_reply.started": "2022-03-11T05:10:44.528340Z"
    },
    "papermill": {
     "duration": 0.15809,
     "end_time": "2022-03-11T05:19:03.437695",
     "exception": false,
     "start_time": "2022-03-11T05:19:03.279605",
     "status": "completed"
    },
    "tags": []
   },
   "outputs": [
    {
     "data": {
      "text/plain": [
       "{'min_child_weight': 3,\n",
       " 'max_depth': 4,\n",
       " 'learning_rate': 0.1,\n",
       " 'gamma': 0.4,\n",
       " 'colsample_bytree': 0.3}"
      ]
     },
     "execution_count": 160,
     "metadata": {},
     "output_type": "execute_result"
    }
   ],
   "source": [
    "xgb_model_tuned.best_params_\n",
    "\n",
    "# {'min_child_weight': 7,\n",
    "#  'max_depth': 6,\n",
    "#  'learning_rate': 0.2,\n",
    "#  'gamma': 0.1,\n",
    "#  'colsample_bytree': 0.4}"
   ]
  },
  {
   "cell_type": "markdown",
   "id": "e2e4b804",
   "metadata": {
    "papermill": {
     "duration": 0.149004,
     "end_time": "2022-03-11T05:19:03.735400",
     "exception": false,
     "start_time": "2022-03-11T05:19:03.586396",
     "status": "completed"
    },
    "tags": []
   },
   "source": [
    "## Predicting with tuned model\n",
    "Let us used our tuned model to predict the Target price and see if it does better than our untuned model."
   ]
  },
  {
   "cell_type": "code",
   "execution_count": 161,
   "id": "ade19521",
   "metadata": {
    "execution": {
     "iopub.execute_input": "2022-03-11T05:19:04.061099Z",
     "iopub.status.busy": "2022-03-11T05:19:04.060182Z",
     "iopub.status.idle": "2022-03-11T05:19:04.069104Z",
     "shell.execute_reply": "2022-03-11T05:19:04.069622Z",
     "shell.execute_reply.started": "2022-03-11T05:10:59.320874Z"
    },
    "papermill": {
     "duration": 0.185575,
     "end_time": "2022-03-11T05:19:04.069798",
     "exception": false,
     "start_time": "2022-03-11T05:19:03.884223",
     "status": "completed"
    },
    "tags": []
   },
   "outputs": [],
   "source": [
    "prediction = xgb_model_tuned.predict(X_test)"
   ]
  },
  {
   "cell_type": "markdown",
   "id": "dc6c41f8",
   "metadata": {
    "papermill": {
     "duration": 0.149255,
     "end_time": "2022-03-11T05:19:04.378232",
     "exception": false,
     "start_time": "2022-03-11T05:19:04.228977",
     "status": "completed"
    },
    "tags": []
   },
   "source": [
    "## Evaluating tuned model"
   ]
  },
  {
   "cell_type": "code",
   "execution_count": 162,
   "id": "1f4aded2",
   "metadata": {
    "execution": {
     "iopub.execute_input": "2022-03-11T05:19:04.704007Z",
     "iopub.status.busy": "2022-03-11T05:19:04.698100Z",
     "iopub.status.idle": "2022-03-11T05:19:04.947727Z",
     "shell.execute_reply": "2022-03-11T05:19:04.948231Z",
     "shell.execute_reply.started": "2022-03-11T05:11:17.396258Z"
    },
    "papermill": {
     "duration": 0.420777,
     "end_time": "2022-03-11T05:19:04.948414",
     "exception": false,
     "start_time": "2022-03-11T05:19:04.527637",
     "status": "completed"
    },
    "tags": []
   },
   "outputs": [
    {
     "data": {
      "image/png": "[encoded data removed]",
      "text/plain": [
       "<Figure size 576x576 with 1 Axes>"
      ]
     },
     "metadata": {},
     "output_type": "display_data"
    }
   ],
   "source": [
    "plt.figure(figsize = (8,8))\n",
    "sns.distplot(y_test-prediction)\n",
    "plt.show()"
   ]
  },
  {
   "cell_type": "code",
   "execution_count": 163,
   "id": "7421c972",
   "metadata": {
    "execution": {
     "iopub.execute_input": "2022-03-11T05:19:05.468913Z",
     "iopub.status.busy": "2022-03-11T05:19:05.468110Z",
     "iopub.status.idle": "2022-03-11T05:19:05.713703Z",
     "shell.execute_reply": "2022-03-11T05:19:05.713173Z",
     "shell.execute_reply.started": "2022-03-11T05:11:30.316612Z"
    },
    "papermill": {
     "duration": 0.515202,
     "end_time": "2022-03-11T05:19:05.713848",
     "exception": false,
     "start_time": "2022-03-11T05:19:05.198646",
     "status": "completed"
    },
    "tags": []
   },
   "outputs": [
    {
     "data": {
      "image/png": "[encoded data removed]",
      "text/plain": [
       "<Figure size 576x576 with 1 Axes>"
      ]
     },
     "metadata": {},
     "output_type": "display_data"
    }
   ],
   "source": [
    "plt.figure(figsize = (8,8))\n",
    "plt.scatter(y_test, prediction, alpha = 0.5)\n",
    "plt.xlabel(\"y_test\")\n",
    "plt.ylabel(\"y_pred\")\n",
    "plt.show()"
   ]
  },
  {
   "cell_type": "code",
   "execution_count": 164,
   "id": "10865284",
   "metadata": {
    "execution": {
     "iopub.execute_input": "2022-03-11T05:19:06.026358Z",
     "iopub.status.busy": "2022-03-11T05:19:06.023176Z",
     "iopub.status.idle": "2022-03-11T05:19:06.029438Z",
     "shell.execute_reply": "2022-03-11T05:19:06.030013Z",
     "shell.execute_reply.started": "2022-03-11T05:11:43.624726Z"
    },
    "papermill": {
     "duration": 0.164422,
     "end_time": "2022-03-11T05:19:06.030191",
     "exception": false,
     "start_time": "2022-03-11T05:19:05.865769",
     "status": "completed"
    },
    "tags": []
   },
   "outputs": [
    {
     "name": "stdout",
     "output_type": "stream",
     "text": [
      "MAE: 0.23545996255401777\n",
      "MSE: 0.09214139462260847\n",
      "RMSE: 0.3035480104079229\n"
     ]
    }
   ],
   "source": [
    "# XGBoost\n",
    "# MAE: 0.12520076071530886\n",
    "# MSE: 0.03371250905578623\n",
    "# RMSE: 0.1836096649302161\n",
    "\n",
    "print('MAE:', metrics.mean_absolute_error(y_test, prediction))\n",
    "print('MSE:', metrics.mean_squared_error(y_test, prediction))\n",
    "print('RMSE:', np.sqrt(metrics.mean_squared_error(y_test, prediction)))"
   ]
  },
  {
   "cell_type": "code",
   "execution_count": 165,
   "id": "60ef1bbc",
   "metadata": {
    "execution": {
     "iopub.execute_input": "2022-03-11T05:19:06.340566Z",
     "iopub.status.busy": "2022-03-11T05:19:06.339869Z",
     "iopub.status.idle": "2022-03-11T05:19:06.342560Z",
     "shell.execute_reply": "2022-03-11T05:19:06.342958Z",
     "shell.execute_reply.started": "2022-03-11T05:13:27.121091Z"
    },
    "papermill": {
     "duration": 0.159265,
     "end_time": "2022-03-11T05:19:06.343085",
     "exception": false,
     "start_time": "2022-03-11T05:19:06.183820",
     "status": "completed"
    },
    "tags": []
   },
   "outputs": [
    {
     "data": {
      "text/plain": [
       "0.8655013950306115"
      ]
     },
     "execution_count": 165,
     "metadata": {},
     "output_type": "execute_result"
    }
   ],
   "source": [
    "# XGBoost\n",
    "# 0.9999356433552934\n",
    "\n",
    "metrics.r2_score(y_test, prediction)"
   ]
  },
  {
   "cell_type": "markdown",
   "id": "d354046f",
   "metadata": {
    "papermill": {
     "duration": 0.1515,
     "end_time": "2022-03-11T05:19:06.644302",
     "exception": false,
     "start_time": "2022-03-11T05:19:06.492802",
     "status": "completed"
    },
    "tags": []
   },
   "source": [
    "We notice from the plots and metrics that the hyper parameter tuning does not have significant improvements on the performance. This is due to the fact that we do not have a time to optimize it!"
   ]
  },
  {
   "cell_type": "markdown",
   "id": "ed3a4e3e",
   "metadata": {
    "papermill": {
     "duration": 0.152219,
     "end_time": "2022-03-11T05:19:06.947685",
     "exception": false,
     "start_time": "2022-03-11T05:19:06.795466",
     "status": "completed"
    },
    "tags": []
   },
   "source": [
    "# Save the model to reuse it again"
   ]
  },
  {
   "cell_type": "markdown",
   "id": "0eee757b",
   "metadata": {
    "papermill": {
     "duration": 0.152134,
     "end_time": "2022-03-11T05:19:07.262263",
     "exception": false,
     "start_time": "2022-03-11T05:19:07.110129",
     "status": "completed"
    },
    "tags": []
   },
   "source": [
    "There's various ways to save the model. We decided to go forward with pickling. It is very easy and straighforward. "
   ]
  },
  {
   "cell_type": "code",
   "execution_count": 166,
   "id": "cb5b16b1",
   "metadata": {
    "execution": {
     "iopub.execute_input": "2022-03-11T05:19:07.567392Z",
     "iopub.status.busy": "2022-03-11T05:19:07.566623Z",
     "iopub.status.idle": "2022-03-11T05:19:07.584628Z",
     "shell.execute_reply": "2022-03-11T05:19:07.584140Z",
     "shell.execute_reply.started": "2022-03-11T05:14:14.346128Z"
    },
    "papermill": {
     "duration": 0.172314,
     "end_time": "2022-03-11T05:19:07.584743",
     "exception": false,
     "start_time": "2022-03-11T05:19:07.412429",
     "status": "completed"
    },
    "tags": []
   },
   "outputs": [],
   "source": [
    "import pickle\n",
    "# open a file, where you ant to store the data\n",
    "file = open('xgboost_tuned.pkl', 'wb') # wb is write and binary mode\n",
    "\n",
    "# dump information to that file\n",
    "pickle.dump(xgb_model_tuned, file)"
   ]
  },
  {
   "cell_type": "code",
   "execution_count": null,
   "id": "829958f9",
   "metadata": {},
   "outputs": [],
   "source": [
    "model = open('xgboost_tuned.pkl','rb')\n",
    "xgboost = pickle.load(model)"
   ]
  },
  {
   "cell_type": "code",
   "execution_count": null,
   "id": "b7de069b",
   "metadata": {
    "execution": {
     "iopub.execute_input": "2022-03-11T05:19:08.220996Z",
     "iopub.status.busy": "2022-03-11T05:19:08.220191Z",
     "iopub.status.idle": "2022-03-11T05:19:08.226647Z",
     "shell.execute_reply": "2022-03-11T05:19:08.227065Z",
     "shell.execute_reply.started": "2022-03-11T05:14:19.480083Z"
    },
    "papermill": {
     "duration": 0.162806,
     "end_time": "2022-03-11T05:19:08.227219",
     "exception": false,
     "start_time": "2022-03-11T05:19:08.064413",
     "status": "completed"
    },
    "tags": []
   },
   "outputs": [],
   "source": [
    "y_prediction = xgboost.predict(X_test)"
   ]
  },
  {
   "cell_type": "code",
   "execution_count": null,
   "id": "ad64c1f0",
   "metadata": {},
   "outputs": [],
   "source": [
    "metrics.r2_score(y_test, y_prediction)"
   ]
  },
  {
   "cell_type": "markdown",
   "id": "726dbfd9",
   "metadata": {
    "papermill": {
     "duration": 0.151025,
     "end_time": "2022-03-11T05:19:08.840151",
     "exception": false,
     "start_time": "2022-03-11T05:19:08.689126",
     "status": "completed"
    },
    "tags": []
   },
   "source": [
    "As you can see, it is extremely easy to save and load a trained model and to use it for future predictions. No need to traine everytime!"
   ]
  },
  {
   "cell_type": "markdown",
   "id": "d7e1d112",
   "metadata": {
    "papermill": {
     "duration": 0.15257,
     "end_time": "2022-03-11T05:19:09.151133",
     "exception": false,
     "start_time": "2022-03-11T05:19:08.998563",
     "status": "completed"
    },
    "tags": []
   },
   "source": [
    "# Final Remarks\n",
    "So the we should try other regression model and do some feature engineering to cross the feature to give more relevant feature to our model in order to get better result.\n",
    "If have more time then we can do:\n",
    "* Better fine tue the model in order to get better result.\n",
    "* More useful Exploratory analysis\n",
    "* Better feature engineering par ex: Crossingfeature\n",
    "* Try other algorithm forregression problem"
   ]
  },
  {
   "cell_type": "markdown",
   "id": "5c7c709b",
   "metadata": {},
   "source": [
    "# Thank you!"
   ]
  },
  {
   "cell_type": "code",
   "execution_count": null,
   "id": "b086a8fd",
   "metadata": {},
   "outputs": [],
   "source": []
  }
 ],
 "metadata": {
  "kernelspec": {
   "display_name": "Python 3",
   "language": "python",
   "name": "python3"
  },
  "language_info": {
   "codemirror_mode": {
    "name": "ipython",
    "version": 3
   },
   "file_extension": ".py",
   "mimetype": "text/x-python",
   "name": "python",
   "nbconvert_exporter": "python",
   "pygments_lexer": "ipython3",
   "version": "3.8.8"
  },
  "papermill": {
   "default_parameters": {},
   "duration": 81.145353,
   "end_time": "2022-03-11T05:19:10.414396",
   "environment_variables": {},
   "exception": null,
   "input_path": "__notebook__.ipynb",
   "output_path": "__notebook__.ipynb",
   "parameters": {},
   "start_time": "2022-03-11T05:17:49.269043",
   "version": "2.3.3"
  }
 },
 "nbformat": 4,
 "nbformat_minor": 5
}
